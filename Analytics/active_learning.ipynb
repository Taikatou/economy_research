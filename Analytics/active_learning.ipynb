{
 "cells": [
  {
   "cell_type": "code",
   "execution_count": 1,
   "id": "6eebf992",
   "metadata": {
    "id": "6eebf992"
   },
   "outputs": [],
   "source": [
    "from keras.models import Sequential\n",
    "from keras.layers import Dense, Input, Concatenate\n",
    "from keras import Model\n",
    "from tensorflow import keras"
   ]
  },
  {
   "cell_type": "code",
   "execution_count": 2,
   "id": "0513b960",
   "metadata": {
    "id": "0513b960"
   },
   "outputs": [],
   "source": [
    "import os\n",
    "import pandas as pd\n",
    "import numpy as np\n",
    "from statistics import mean\n",
    "import matplotlib.pyplot as plt\n",
    "%matplotlib inline"
   ]
  },
  {
   "cell_type": "code",
   "execution_count": 3,
   "id": "88129aa5",
   "metadata": {
    "id": "88129aa5"
   },
   "outputs": [],
   "source": [
    "def make_model():\n",
    "  x = Input(shape=(60,), name=\"Game Play Data\")\n",
    "  y = Input(shape=(3,), name=\"Selected Character\")\n",
    "  g = Concatenate()([x, y])\n",
    "\n",
    "  g = Dense(500, activation='relu', input_dim=8)(g)\n",
    "  g = Dense(100, activation='relu')(g)\n",
    "  g = Dense(50, activation='relu')(g)\n",
    "  g = Dense(3, activation='softmax')(g)\n",
    "  model = Model(inputs=[x, y], outputs=g)\n",
    "  return model"
   ]
  },
  {
   "cell_type": "code",
   "execution_count": 4,
   "id": "08dbd3c0",
   "metadata": {
    "id": "08dbd3c0"
   },
   "outputs": [],
   "source": [
    "opt = keras.optimizers.Adam()"
   ]
  },
  {
   "cell_type": "code",
   "execution_count": 5,
   "id": "8ada1700",
   "metadata": {
    "id": "8ada1700"
   },
   "outputs": [],
   "source": [
    "type_path = \"E:/TestData\"\n",
    "graph_data = { }\n",
    "game_play_data = { }\n",
    "hash_data = {}\n",
    "environments = {}"
   ]
  },
  {
   "cell_type": "code",
   "execution_count": 6,
   "id": "82bdbec6",
   "metadata": {
    "colab": {
     "base_uri": "https://localhost:8080/"
    },
    "id": "82bdbec6",
    "outputId": "fa59c603-ebfc-4fc6-ef46-2867f967fa1e"
   },
   "outputs": [
    {
     "name": "stdout",
     "output_type": "stream",
     "text": [
      "['30/07/2022 21:28:47' 0.9634268 0.8824123 1.058837]\n"
     ]
    }
   ],
   "source": [
    "level_cap = 5\n",
    "configuration_data = {}\n",
    "reviews = { \"27/07/2022 09:48:11\": [0, 0, 1], \"Test2\": [0, 0, 1] }\n",
    "\n",
    "for filename in os.listdir(type_path):\n",
    "    file_path = os.path.join(type_path, filename)\n",
    "    if os.path.isfile(file_path):\n",
    "        df = pd.read_csv(file_path)\n",
    "        if \"level_selection\" in file_path:\n",
    "            if filename not in hash_data:\n",
    "                hash_data[filename] = []\n",
    "                environments[filename] = {}\n",
    "            for i in range(len(df)):\n",
    "                battle_environment = df.loc[i, 'BattleEnvironment']\n",
    "                battle_id = df.loc[i, 'ID']\n",
    "                if battle_environment not in environments:\n",
    "                    environments[filename][battle_environment] = [0, 0, 0, 0, 0]\n",
    "                if battle_id not in hash_data:\n",
    "                    level = df.loc[i, 'Level']\n",
    "                    environments[filename][battle_environment][level] = environments[filename][battle_environment][level] + 1\n",
    "                    hash_data[filename].append(battle_id)\n",
    "        elif \"level_configuration\" in filename:\n",
    "            for i in range(len(df)):\n",
    "              config = df.iloc[i].values\n",
    "              print(config)\n",
    "              configuration_data[config[0]] = config[1:]\n",
    "              configuration_data[\"1\"] = config[1:]\n",
    "        else:\n",
    "            if filename not in game_play_data:\n",
    "                game_play_data[filename] = {\n",
    "                    \"Brawler\": {},\n",
    "                    \"Mage\": {},\n",
    "                    \"Swordsman\": {}\n",
    "                }\n",
    "                for key in game_play_data[filename]:\n",
    "                    game_play_data[filename][key] = [[], [], [], [], []]\n",
    "                graph_data[filename] = {}\n",
    "            adventurer_type = filename.split('_')[0]\n",
    "            for i in range(len(df)):\n",
    "                level = df.loc[i, 'Level']\n",
    "                max_steps = df.loc[i, 'MaxCount']\n",
    "                game_play_data[filename][adventurer_type][level].append(max_steps)\n",
    "            for key in game_play_data[filename]:\n",
    "                graph_data[filename][key] = [[], [], [], [], []]\n",
    "                for x in range(level_cap):\n",
    "                    if len(game_play_data[filename][key][x]) > 0:\n",
    "                        graph_data[filename][key][x] = mean(game_play_data[filename][key][x])"
   ]
  },
  {
   "cell_type": "code",
   "execution_count": 7,
   "id": "lGnGy2L7_ezr",
   "metadata": {
    "colab": {
     "base_uri": "https://localhost:8080/"
    },
    "id": "lGnGy2L7_ezr",
    "outputId": "508d095f-cf63-4222-b657-ff08737d375c"
   },
   "outputs": [
    {
     "name": "stdout",
     "output_type": "stream",
     "text": [
      "{'30/07/2022 21:28:47': array([0.9634268, 0.8824123, 1.058837], dtype=object), '1': array([0.9634268, 0.8824123, 1.058837], dtype=object)}\n",
      "{'Brawler_1_30_07_2022_23_54.csv': {'Brawler': [[0, 0, 0, 0, 0, 0, 0, 0, 0, 0, 0, 0, 0, 0, 0, 0, 0, 0, 0, 0, 0, 0, 0, 0, 0, 0, 0, 0, 0, 0, 0, 0, 0, 0, 0, 0, 0, 0, 0, 0, 0, 0, 0, 0, 0, 0, 0, 0, 0, 0, 0, 0, 0, 0, 0, 0, 0, 0, 0, 0, 0, 0, 0, 0, 0, 0, 0, 0, 0, 0, 0, 0, 0, 0, 0, 0, 0, 0, 0, 0, 0, 0, 0, 0, 0, 0, 0, 0, 0, 0, 0, 0, 0, 0, 0, 0, 0, 0, 0, 0, 0, 0, 0, 0, 0, 0, 0, 0, 0, 0, 0, 0, 0, 0, 0, 0, 0, 0, 0, 0, 0, 0, 0, 0, 0, 0, 0, 0, 0, 0, 0, 0, 0, 0, 0, 0, 0, 0, 0, 0, 0, 0], [15088, 17805, 18560, 19813, 20533, 20533, 21313, 27396, 27447, 28832, 36595, 6791, 6867, 8563, 9905, 11741, 14196, 15100, 18535, 21415, 22526, 25472, 4490, 8729, 6103, 7860, 9787, 9908, 10755, 10755, 11061, 12030, 13664, 16197, 16432, 8546, 9998, 7450, 4657, 2701, 4112, 5335, 5513, 6619, 6772, 7143, 7285, 7824, 8162, 12741, 6716, 8550, 3506, 2714, 28823, 2939, 28000, 2811, 3619, 5657, 5790, 6112, 6623, 7065, 7728, 11153, 11266, 11454, 12463, 5960, 6062, 10266, 13410, 16110, 9561, 9970, 27850, 4559, 4693, 4744, 6113, 8262, 8549, 8549, 9523, 9772, 10090, 17745, 4190, 2485, 5259, 6970, 14965, 5928, 10652, 4871, 3923, 11178, 6809, 16090, 3834, 6599, 7010, 8073, 8650, 9511, 9710, 12485, 15530, 19073, 22689, 3799, 8330, 1932, 7585, 8440, 8230, 9901, 3835, 4740, 2226, 3308, 7058, 7331, 7500, 7909, 8370, 12915, 13046, 14411, 17133, 3170, 6390, 16821, 2323, 15390, 5552, 8883, 3929, 7440, 3229, 4200, 2902, 3150, 3656, 3945, 4485, 5553, 5553, 6467, 9089, 12301], [43418, 44071, 44973, 47265, 50423, 50526, 52237, 58460, 59005, 63742, 67860, 23061, 23794, 30632, 34148, 34408, 35042, 41394, 43833, 49633, 51333, 54672, 22342, 24941, 26896, 30296, 30913, 32923, 34040, 37736, 39412, 46449, 46449, 20228, 12741, 13689, 13933, 18253, 19422, 25431, 26106, 26436, 29389, 40622, 44454, 23932, 23880, 13249, 17055, 23890, 24062, 25421, 28470, 31319, 32185, 33285, 34998, 40072, 13049, 17251, 25640, 9103, 9523, 14191, 15368, 23410, 25528, 29696, 30518, 33393, 37125, 39161, 12610, 17495, 21030, 20600, 20924, 20412, 16263, 10025, 12216, 17570, 17570, 18770, 20149, 26802, 28995, 29866, 37135, 42794, 12229, 23460, 11693, 27335, 29440, 9150, 11548, 17557, 20612, 21365, 21711, 22606, 24597, 25413, 28643, 30740, 13700, 24874, 7281, 22121, 13870, 27330, 14617, 11900, 20620, 9821, 11751, 12020], [63671, 66161, 70880, 75649, 77612, 52742, 53539, 66626, 69283, 72076, 73191, 77180, 35589, 40242, 43983, 48751, 56015, 58489, 68730, 69365, 72805, 73985, 31319, 48131, 48131, 49401, 50366, 51343, 63099, 64160, 65675, 66852, 33003, 35383, 38076, 46450, 47245, 52808, 57218, 60880, 61794, 28792, 63728, 67896, 33846, 36320, 45555, 45555, 47157, 61614, 62413, 62413, 67051, 67553, 68001, 33779, 34186, 35295, 43722, 44585, 52974, 54111, 54383, 59663, 62380, 35349, 71250], []], 'Mage': [[], [], [], [], []], 'Swordsman': [[], [], [], [], []]}, 'Mage_1_30_07_2022_23_54.csv': {'Brawler': [[], [], [], [], []], 'Mage': [[0, 0, 0, 0, 0, 0, 0, 0, 0, 0, 0, 0, 0, 0, 0, 0, 0, 0, 0, 0, 0, 0, 0, 0, 0, 0, 0, 0, 0, 0, 0, 0, 0, 0, 0, 0, 0, 0, 0, 0, 0, 0, 0, 0, 0, 0, 0, 0, 0, 0, 0, 0, 0, 0, 0, 0, 0, 0, 0, 0, 0, 0, 0, 0, 0, 0, 0, 0, 0, 0, 0, 0, 0, 0, 0, 0, 0, 0, 0, 0, 0, 0, 0, 0, 0, 0, 0, 0, 0, 0, 0, 0, 0, 0, 0, 0, 0, 0, 0, 0, 0, 0, 0, 0, 0, 0, 0, 0, 0, 0, 0, 0, 0, 0, 0, 0, 0, 0, 0, 0, 0, 0, 0, 0, 0, 0, 0, 0, 0, 0, 0, 0, 0, 0, 0, 0, 0, 0, 0, 0, 0, 0, 0, 0, 0, 0, 0, 0, 0, 0, 0, 0, 0, 0, 0, 0, 0, 0], [12906, 13368, 14167, 15256, 20441, 23727, 25114, 31910, 34810, 37858, 38454, 3647, 5776, 6501, 6867, 8070, 10728, 11657, 12762, 15188, 15426, 22260, 3962, 15927, 7764, 2959, 5269, 3133, 4437, 5206, 6613, 6654, 12238, 13210, 13664, 13990, 14606, 15382, 26467, 7495, 5396, 11906, 19620, 12518, 9160, 5068, 11650, 8208, 2252, 2339, 3155, 4112, 6650, 7947, 9637, 10917, 11258, 12826, 17349, 7024, 7040, 4354, 13170, 8812, 7948, 15000, 7030, 2890, 10581, 3389, 3636, 4718, 7065, 8307, 8307, 8811, 9459, 9459, 15985, 16711, 1013, 8360, 3660, 15030, 14687, 19000, 15742, 4520, 6470, 11314, 6856, 1976, 2515, 7711, 8491, 9772, 10930, 11976, 12461, 13678, 14118, 16139, 7000, 12290, 4220, 1746, 2039, 8430, 4330, 2629, 10680, 9277, 1174, 6079, 2836, 2998, 5144, 5809, 7010, 7854, 10066, 12267, 16147, 21702, 31961, 11140, 12740, 5059, 12030, 14331, 9928, 16591, 11180, 7426, 2960, 11890, 883, 1969, 1969, 3634, 3847, 4277, 7058, 7249, 10772, 11548, 18604, 4050, 8030, 5736, 6400, 15773, 4180, 10989, 6450, 12363, 11790, 21789, 2763, 3441, 3656, 5021, 6104, 6680, 7106, 8808, 10716], [27447, 36595, 40048, 44640, 54597, 55974, 59463, 63139, 63658, 69744, 9905, 26304, 27014, 29517, 30120, 35429, 35818, 35818, 41137, 41509, 46335, 27742, 17754, 8689, 39427, 12658, 14204, 16820, 19876, 23727, 24941, 25905, 26111, 27314, 30296, 30587, 23877, 23176, 6437, 12384, 13430, 13708, 16900, 17349, 18007, 22252, 33406, 42729, 18929, 44569, 8350, 12767, 19876, 10690, 14459, 26707, 28909, 13940, 14589, 14597, 14739, 15740, 15740, 16486, 20902, 26781, 30177, 39538, 14326, 19588, 11880, 23860, 29050, 34650, 27330, 7474, 11086, 15541, 15541, 23149, 23410, 23936, 23936, 24214, 24654, 25098, 15950, 21870, 12400, 12781, 8069, 22140, 17522, 28530, 19360, 5964, 9710, 14274, 15015, 18216, 20229, 22570, 26487, 29596, 30146, 23377, 8647, 21006, 55439, 22424, 21221, 20530, 33509, 22388, 9811, 10236, 10621, 15134, 15692, 17701, 20807, 21652, 26256, 37470, 38946, 15070, 11310, 15560, 26875, 30957, 20556, 16950, 17877, 17370, 9292, 10407, 11080, 11096, 12498], [63139, 39032, 40132, 59225, 63538, 64712, 66161, 68780, 40162, 46607, 47657, 50228, 57330, 60134, 61106, 66268, 68972, 74692, 76117, 24205, 43138, 43620, 45480, 47217, 50090, 51689, 54797, 63696, 46669, 29262, 34362, 35930, 37279, 37622, 38748, 46526, 57613, 59084, 59387, 67737, 32130, 38666, 28834, 32161, 37707, 40268, 42009, 42527, 48417, 51396, 53083, 61219, 32120, 71081, 32696, 24670, 30894, 38046, 38046, 41527, 42176, 46812, 52607, 56923, 62718, 39960, 28280, 76109, 27159, 29324, 30920, 33610, 39737, 39737, 45128, 48361, 52078, 53546, 24750, 41320, 41058, 34198], []], 'Swordsman': [[], [], [], [], []]}, 'Swordsman_1_30_07_2022_23_54.csv': {'Brawler': [[], [], [], [], []], 'Mage': [[], [], [], [], []], 'Swordsman': [[0, 0, 0, 0, 0, 0, 0, 0, 0, 0, 0, 0, 0, 0, 0, 0, 0, 0, 0, 0, 0, 0, 0, 0, 0, 0, 0, 0, 0, 0, 0, 0, 0, 0, 0, 0, 0, 0, 0, 0, 0, 0, 0, 0, 0, 0, 0, 0, 0, 0, 0, 0, 0, 0, 0, 0, 0, 0, 0, 0, 0, 0, 0, 0, 0, 0, 0, 0, 0, 0, 0, 0, 0, 0, 0, 0, 0, 0, 0, 0, 0, 0, 0, 0, 0, 0, 0, 0, 0, 0, 0, 0, 0, 0, 0, 0, 0, 0, 0, 0, 0, 0, 0, 0, 0, 0, 0, 0, 0, 0, 0, 0, 0, 0, 0, 0, 0, 0, 0, 0, 0, 0, 0, 0, 0, 0, 0, 0, 0, 0, 0, 0], [5396, 9145, 12059, 19295, 19813, 24557, 28152, 40048, 19420, 25101, 3017, 3522, 3985, 10545, 16649, 18210, 23061, 24088, 6990, 8761, 12260, 10912, 9539, 4212, 4736, 6812, 8801, 9054, 11681, 14204, 25384, 7405, 18926, 9397, 13474, 19748, 5526, 12000, 10289, 1473, 1342, 2339, 3155, 4534, 4776, 5513, 6650, 13464, 7616, 2520, 11214, 6151, 7700, 11331, 2103, 5985, 2049, 2525, 2855, 4207, 5361, 8552, 12976, 14597, 33712, 3480, 11040, 3181, 8860, 8936, 11104, 8860, 3139, 846, 1133, 1434, 3524, 4372, 9740, 13595, 14493, 3168, 5497, 15530, 22797, 5800, 9621, 7050, 2999, 7141, 3930, 26024, 1284, 1424, 1424, 1695, 2478, 7983, 8915, 10579, 1673, 1510, 4700, 5979, 10730, 12280, 5000, 9188, 10419, 7800, 15470, 883, 1388, 1666, 1896, 2747, 6674, 6832, 9933, 7617, 1308, 3413, 8200, 5521, 10758, 7630, 10690, 4148, 4402, 12400, 8913, 6695, 5372, 6104, 7044, 7728, 8845, 10569], [21394, 25729, 27396, 41023, 44818, 47332, 49913, 70048, 31540, 6791, 24994, 27942, 28049, 30482, 30673, 37436, 41509, 28123, 18962, 10802, 10856, 13858, 15688, 19692, 23534, 30643, 30874, 22350, 40975, 28470, 11297, 30110, 7434, 11482, 15356, 15653, 19762, 23014, 26436, 29144, 15670, 14251, 20154, 23179, 33090, 28730, 16438, 20397, 7473, 18909, 19529, 20395, 24062, 26938, 29563, 13558, 50366, 6548, 17852, 13698, 13166, 15236, 7743, 9042, 10066, 14191, 21549, 6758, 24654, 25098, 12260, 36929, 19650, 28940, 19595, 10544, 16100, 23709, 13271, 16699, 7442, 7584, 14655, 15006, 16639, 21918, 22706, 11106, 36593, 7996, 10621, 17878, 15070, 8651, 25419, 17060, 12380, 18670, 4918, 9369, 15134, 15474, 15936, 20572, 24435, 33093, 14996, 5621, 6889, 5750, 9330, 16540, 19742, 12310, 11169, 18639, 8522, 9264, 10407, 11978, 12281], [47714, 56335, 73525, 78519, 37104, 54204, 55728, 57703, 62346, 74985, 78495, 79439, 25031, 35587, 42992, 43783, 47204, 56864, 58575, 61692, 38306, 25793, 27768, 31229, 32983, 34605, 42446, 54797, 55198, 33522, 32185, 37893, 42408, 45963, 52803, 53686, 64462, 36480, 33561, 16921, 18576, 20174, 24324, 39268, 48969, 32651, 54744, 33709, 39528, 61795, 22706, 31255, 32173, 33217, 39444, 39808, 27733, 19351, 24830, 56923, 61332, 19660, 32600, 25119, 32152, 34186, 34917, 37124, 38465, 38584, 48693, 30450, 20321, 29080, 30378, 36290, 22840, 36260], []]}}\n"
     ]
    }
   ],
   "source": [
    "print(configuration_data)\n",
    "print(game_play_data)"
   ]
  },
  {
   "cell_type": "code",
   "execution_count": 8,
   "id": "25e73506",
   "metadata": {},
   "outputs": [
    {
     "name": "stdout",
     "output_type": "stream",
     "text": [
      "['30/07/2022 21:28:47' 0.9634268 0.8824123 1.058837]\n"
     ]
    }
   ],
   "source": [
    "print(config)"
   ]
  },
  {
   "cell_type": "code",
   "execution_count": 9,
   "id": "VOE7PnkEA88C",
   "metadata": {
    "id": "VOE7PnkEA88C"
   },
   "outputs": [],
   "source": [
    "from sklearn.model_selection import train_test_split\n",
    "y = list(reviews.keys())\n",
    "labels = []\n",
    "labeled_config = []\n",
    "for key in y:\n",
    "  if key in configuration_data:\n",
    "    data = configuration_data[key]\n",
    "    labeled_config.append(data.tolist())\n",
    "    labels.append(reviews[key])\n",
    "\n",
    "unlabeled_data = []\n",
    "for key in configuration_data:\n",
    "  if key not in y:\n",
    "    data = configuration_data[key]\n",
    "    unlabeled_data.append(data)"
   ]
  },
  {
   "cell_type": "code",
   "execution_count": 10,
   "id": "NB5FzG02EcO0",
   "metadata": {
    "colab": {
     "base_uri": "https://localhost:8080/"
    },
    "id": "NB5FzG02EcO0",
    "outputId": "71e4863b-f15e-4bba-951b-d9e8353a01ea"
   },
   "outputs": [
    {
     "name": "stdout",
     "output_type": "stream",
     "text": [
      "[]\n",
      "30/07/2022 21:28:47\n"
     ]
    },
    {
     "ename": "AttributeError",
     "evalue": "'numpy.ndarray' object has no attribute 'append'",
     "output_type": "error",
     "traceback": [
      "\u001b[1;31m---------------------------------------------------------------------------\u001b[0m",
      "\u001b[1;31mAttributeError\u001b[0m                            Traceback (most recent call last)",
      "\u001b[1;32m~\\AppData\\Local\\Temp/ipykernel_25168/3492713130.py\u001b[0m in \u001b[0;36m<module>\u001b[1;34m\u001b[0m\n\u001b[0;32m      1\u001b[0m \u001b[0mprint\u001b[0m\u001b[1;33m(\u001b[0m\u001b[0mlabeled_config\u001b[0m\u001b[1;33m)\u001b[0m\u001b[1;33m\u001b[0m\u001b[1;33m\u001b[0m\u001b[0m\n\u001b[0;32m      2\u001b[0m \u001b[0mprint\u001b[0m\u001b[1;33m(\u001b[0m\u001b[0mconfig\u001b[0m\u001b[1;33m[\u001b[0m\u001b[1;36m0\u001b[0m\u001b[1;33m]\u001b[0m\u001b[1;33m)\u001b[0m\u001b[1;33m\u001b[0m\u001b[1;33m\u001b[0m\u001b[0m\n\u001b[1;32m----> 3\u001b[1;33m \u001b[0mconfig\u001b[0m\u001b[1;33m.\u001b[0m\u001b[0mappend\u001b[0m\u001b[1;33m(\u001b[0m\u001b[0mconfig\u001b[0m\u001b[1;33m[\u001b[0m\u001b[1;36m0\u001b[0m\u001b[1;33m]\u001b[0m\u001b[1;33m)\u001b[0m\u001b[1;33m\u001b[0m\u001b[1;33m\u001b[0m\u001b[0m\n\u001b[0m\u001b[0;32m      4\u001b[0m \u001b[0mprint\u001b[0m\u001b[1;33m(\u001b[0m\u001b[0mlabels\u001b[0m\u001b[1;33m)\u001b[0m\u001b[1;33m\u001b[0m\u001b[1;33m\u001b[0m\u001b[0m\n\u001b[0;32m      5\u001b[0m \u001b[0mlabels\u001b[0m\u001b[1;33m.\u001b[0m\u001b[0mappend\u001b[0m\u001b[1;33m(\u001b[0m\u001b[0mlabels\u001b[0m\u001b[1;33m[\u001b[0m\u001b[1;36m0\u001b[0m\u001b[1;33m]\u001b[0m\u001b[1;33m)\u001b[0m\u001b[1;33m\u001b[0m\u001b[1;33m\u001b[0m\u001b[0m\n",
      "\u001b[1;31mAttributeError\u001b[0m: 'numpy.ndarray' object has no attribute 'append'"
     ]
    }
   ],
   "source": [
    "print(labeled_config)\n",
    "print(config[0])\n",
    "config.append(config[0])\n",
    "print(labels)\n",
    "labels.append(labels[0])\n",
    "print(unlabeled_data)"
   ]
  },
  {
   "cell_type": "code",
   "execution_count": null,
   "id": "bN88s0qkDDAr",
   "metadata": {
    "id": "bN88s0qkDDAr"
   },
   "outputs": [],
   "source": [
    "train_data, train_labels, val_data, val_labels = train_test_split(config, labels, test_size=0.1)"
   ]
  },
  {
   "cell_type": "code",
   "execution_count": null,
   "id": "HXgPXUNsGVg5",
   "metadata": {
    "id": "HXgPXUNsGVg5"
   },
   "outputs": [],
   "source": [
    "# Helper function for merging new history objects with older ones\n",
    "def append_history(losses, val_losses, accuracy, val_accuracy, history):\n",
    "    losses = losses + history.history[\"loss\"]\n",
    "    val_losses = val_losses + history.history[\"val_loss\"]\n",
    "    accuracy = accuracy + history.history[\"categorical_accuracy\"]\n",
    "    val_accuracy = val_accuracy + history.history[\"val_categorical_accuracy\"]\n",
    "    return losses, val_losses, accuracy, val_accuracy\n",
    "\n",
    "\n",
    "# Plotter function\n",
    "def plot_history(losses, val_losses, accuracies, val_accuracies):\n",
    "    plt.plot(losses)\n",
    "    plt.plot(val_losses)\n",
    "    plt.legend([\"train_loss\", \"val_loss\"])\n",
    "    plt.xlabel(\"Epochs\")\n",
    "    plt.ylabel(\"Loss\")\n",
    "    plt.show()\n",
    "\n",
    "    plt.plot(accuracies)\n",
    "    plt.plot(val_accuracies)\n",
    "    plt.legend([\"train_accuracy\", \"val_accuracy\"])\n",
    "    plt.xlabel(\"Epochs\")\n",
    "    plt.ylabel(\"Accuracy\")\n",
    "    plt.show()"
   ]
  },
  {
   "cell_type": "code",
   "execution_count": null,
   "id": "PrQGne8ovciZ",
   "metadata": {
    "id": "PrQGne8ovciZ"
   },
   "outputs": [],
   "source": [
    "def train_active_learning(\n",
    "    pool_negatives,\n",
    "    pool_positives,\n",
    "    val_dataset,\n",
    "    test_dataset,\n",
    "    num_iterations=3,\n",
    "    sampling_size=5000):\n",
    "  # inspired from this https://keras.io/examples/nlp/active_learning_review_classification/\n",
    "  model = make_model()\n",
    "  model.compile(loss=\"categorical_crossentropy\", optimizer=opt, metrics=[\n",
    "            keras.metrics.CategoricalAccuracy(),\n",
    "            keras.metrics.FalseNegatives(),\n",
    "            keras.metrics.FalsePositives(),\n",
    "        ],)\n",
    "  losses, val_losses, accuracies, val_accuracies = [], [], [], []\n",
    "\n",
    "  # Defining checkpoints.\n",
    "  # The checkpoint callback is reused throughout the training since it only saves the best overall model.\n",
    "  checkpoint = keras.callbacks.ModelCheckpoint(\n",
    "      \"AL_Model.h5\", save_best_only=True, verbose=1\n",
    "  )\n",
    "  # Here, patience is set to 4. This can be set higher if desired.\n",
    "  early_stopping = keras.callbacks.EarlyStopping(patience=4, verbose=1)\n",
    "\n",
    "  print(f\"Starting to train with {len(train_dataset)} samples\")\n",
    "  # Initial fit with a small subset of the training set\n",
    "  history = model.fit(\n",
    "      x=train_data,\n",
    "      y=train_labels,\n",
    "      epochs=20,\n",
    "      validation_data=(val_data, val_labels),\n",
    "      callbacks=[checkpoint, early_stopping],\n",
    "  )\n",
    "\n",
    "  # Appending history\n",
    "  losses, val_losses, accuracies, val_accuracies = append_history(\n",
    "      losses, val_losses, accuracies, val_accuracies, history\n",
    "  )\n",
    "\n",
    "  for iteration in range(num_iterations):\n",
    "      # Getting predictions from previously trained model\n",
    "      predictions = model.predict(test_dataset)\n",
    "\n",
    "      # Generating labels from the output probabilities\n",
    "      rounded = tf.where(tf.greater(predictions, 0.5), 1, 0)\n",
    "\n",
    "      # Evaluating the number of zeros and ones incorrrectly classified\n",
    "      _, _, false_negatives, false_positives = model.evaluate(test_dataset, verbose=0)\n",
    "\n",
    "      print(\"-\" * 100)\n",
    "      print(\n",
    "          f\"Number of zeros incorrectly classified: {false_negatives}, Number of ones incorrectly classified: {false_positives}\"\n",
    "      )\n",
    "\n",
    "      # This technique of Active Learning demonstrates ratio based sampling where\n",
    "      # Number of ones/zeros to sample = Number of ones/zeros incorrectly classified / Total incorrectly classified\n",
    "      if false_negatives != 0 and false_positives != 0:\n",
    "          total = false_negatives + false_positives\n",
    "          sample_ratio_ones, sample_ratio_zeros = (\n",
    "              false_positives / total,\n",
    "              false_negatives / total,\n",
    "          )\n",
    "      # In the case where all samples are correctly predicted, we can sample both classes equally\n",
    "      else:\n",
    "          sample_ratio_ones, sample_ratio_zeros = 0.5, 0.5\n",
    "\n",
    "      print(\n",
    "          f\"Sample ratio for positives: {sample_ratio_ones}, Sample ratio for negatives:{sample_ratio_zeros}\"\n",
    "      )\n",
    "\n",
    "      # Sample the required number of ones and zeros\n",
    "      sampled_dataset = pool_negatives.take(\n",
    "          int(sample_ratio_zeros * sampling_size)\n",
    "      ).concatenate(pool_positives.take(int(sample_ratio_ones * sampling_size)))\n",
    "\n",
    "      # Skip the sampled data points to avoid repetition of sample\n",
    "      pool_negatives = pool_negatives.skip(int(sample_ratio_zeros * sampling_size))\n",
    "      pool_positives = pool_positives.skip(int(sample_ratio_ones * sampling_size))\n",
    "\n",
    "      # Concatenating the train_dataset with the sampled_dataset\n",
    "      train_dataset = train_dataset.concatenate(sampled_dataset).prefetch(\n",
    "          tf.data.AUTOTUNE\n",
    "      )\n",
    "\n",
    "      print(f\"Starting training with {len(train_dataset)} samples\")\n",
    "      print(\"-\" * 100)\n",
    "\n",
    "      # We recompile the model to reset the optimizer states and retrain the model\n",
    "      model.compile(\n",
    "          loss=\"binary_crossentropy\",\n",
    "          optimizer=\"rmsprop\",\n",
    "          metrics=[\n",
    "              keras.metrics.BinaryAccuracy(),\n",
    "              keras.metrics.FalseNegatives(),\n",
    "              keras.metrics.FalsePositives(),\n",
    "          ],\n",
    "      )\n",
    "      history = model.fit(\n",
    "          train_dataset.cache().shuffle(20000).batch(256),\n",
    "          validation_data=val_dataset,\n",
    "          epochs=20,\n",
    "          callbacks=[\n",
    "              checkpoint,\n",
    "              keras.callbacks.EarlyStopping(patience=4, verbose=1),\n",
    "          ],\n",
    "      )\n",
    "\n",
    "      # Appending the history\n",
    "      losses, val_losses, accuracies, val_accuracies = append_history(\n",
    "          losses, val_losses, accuracies, val_accuracies, history\n",
    "      )\n",
    "\n",
    "      # Loading the best model from this training loop\n",
    "      model = keras.models.load_model(\"AL_Model.h5\")\n",
    "\n",
    "      # Plotting the overall history and evaluating the final model\n",
    "  plot_history(losses, val_losses, accuracies, val_accuracies)\n",
    "  print(\"-\" * 100)\n",
    "  print(\n",
    "      \"Test set evaluation: \",\n",
    "      model.evaluate(test_dataset, verbose=0, return_dict=True),\n",
    "  )\n",
    "  print(\"-\" * 100)\n",
    "\n",
    "  return model"
   ]
  },
  {
   "cell_type": "code",
   "execution_count": null,
   "id": "4e467ce8",
   "metadata": {},
   "outputs": [],
   "source": [
    "from keras.utils.vis_utils import plot_model\n",
    "plot_model(model, to_file='model_plot.png', show_shapes=True, show_layer_names=True)"
   ]
  }
 ],
 "metadata": {
  "colab": {
   "name": "active_learning.ipynb",
   "provenance": []
  },
  "kernelspec": {
   "display_name": "Python 3 (ipykernel)",
   "language": "python",
   "name": "python3"
  },
  "language_info": {
   "codemirror_mode": {
    "name": "ipython",
    "version": 3
   },
   "file_extension": ".py",
   "mimetype": "text/x-python",
   "name": "python",
   "nbconvert_exporter": "python",
   "pygments_lexer": "ipython3",
   "version": "3.9.7"
  }
 },
 "nbformat": 4,
 "nbformat_minor": 5
}
