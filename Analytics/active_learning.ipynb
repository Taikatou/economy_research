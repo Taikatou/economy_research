{
 "cells": [
  {
   "cell_type": "markdown",
   "id": "87591cc6",
   "metadata": {
    "colab_type": "text",
    "id": "view-in-github"
   },
   "source": [
    "<a href=\"https://colab.research.google.com/github/Taikatou/economy_research/blob/master/Analytics/active_learning.ipynb\" target=\"_parent\"><img src=\"https://colab.research.google.com/assets/colab-badge.svg\" alt=\"Open In Colab\"/></a>"
   ]
  },
  {
   "cell_type": "code",
   "execution_count": 1,
   "id": "6eebf992",
   "metadata": {
    "id": "6eebf992"
   },
   "outputs": [],
   "source": [
    "import tensorflow as tf\n",
    "from tensorflow import keras\n",
    "from tensorflow.keras import layers"
   ]
  },
  {
   "cell_type": "code",
   "execution_count": 2,
   "id": "0513b960",
   "metadata": {
    "id": "0513b960"
   },
   "outputs": [],
   "source": [
    "import os\n",
    "import pandas as pd\n",
    "import numpy as np\n",
    "import random\n",
    "from statistics import mean\n",
    "import matplotlib.pyplot as plt\n",
    "%matplotlib inline"
   ]
  },
  {
   "cell_type": "code",
   "execution_count": 3,
   "id": "08dbd3c0",
   "metadata": {
    "id": "08dbd3c0"
   },
   "outputs": [],
   "source": [
    "opt = tf.keras.optimizers.Adam()"
   ]
  },
  {
   "cell_type": "code",
   "execution_count": 4,
   "id": "82bdbec6",
   "metadata": {
    "colab": {
     "base_uri": "https://localhost:8080/"
    },
    "id": "82bdbec6",
    "outputId": "a61c2ab1-4ab3-4231-f8b2-a16234e8c8d2"
   },
   "outputs": [
    {
     "name": "stdout",
     "output_type": "stream",
     "text": [
      "['c8e345a5-a063-4a6c-8fd7-0e2fa8a93190', 0.4230763, 0.5729685, 0.4784689]\n",
      "['d613307e-f819-4cb8-b644-061917326729', 0.4719957, 0.5025854, 0.4560405]\n",
      "['c295a661-f166-4be0-b3f4-7794d4ca79b4', 0.5587001, 0.5503647, 0.5768477]\n",
      "['049d5dbd-188a-4cbf-bfd3-9ff1c990a295', 0.5883144, 0.5325123, 0.4641197]\n",
      "['658aba3c-1d87-4152-9e44-457568109315', 0.507669, 0.5179966, 0.4963874]\n",
      "['c3e55291-d7e2-4e28-b25a-725135537939', 0.4132038, 0.4555688, 0.4205619]\n",
      "['baf45b9d-fc72-441e-9858-aecfecae7b14', 0.4057138, 0.4434852, 0.4150411]\n",
      "['5ddb5e77-95ed-4bff-a6cb-02e1532ac7f8', 0.5461384, 0.5928363, 0.5209548]\n",
      "['63785fd0-ae64-447c-a5f3-ef134ae28b80', 0.5657998, 0.4339453, 0.4486905]\n",
      "['c743d528-93e6-4471-899e-f250ff964d01', 0.4934529, 0.4983884, 0.4398314]\n",
      "['4d38de33-6f15-4547-b401-85e0db1ee9d0', 0.5575743, 0.5841337, 0.4227229]\n",
      "['e707cad4-3366-410c-bc05-6db274f9bdba', 0.5700304, 0.4598914, 0.5361736]\n",
      "['9528eb92-7d99-476f-b988-dde40d4962d5', 0.4082832, 0.4112666, 0.4284065]\n",
      "['0a3131b8-1b29-4064-8fd8-c0a06104ab28', 0.4362549, 0.4208434, 0.5382634]\n",
      "['568079b0-34b6-4bb6-8c54-586d3b5c5da1', 0.4584654, 0.4401507, 0.5904244]\n",
      "['c0e450fa-0d56-42ee-8983-a20e32e7364a', 0.5234028, 0.5564292, 0.5141313]\n",
      "['1bfdd40a-e7ae-44e5-b079-1f4b3d3cbee7', 0.4811949, 0.5823722, 0.5016915]\n"
     ]
    }
   ],
   "source": [
    "level_cap = 5\n",
    "configuration_data = {}\n",
    "graph_data = { }\n",
    "type_path = \"D:\\TestData\"\n",
    "game_play_data = { }\n",
    "hash_data = {}\n",
    "environments = {}\n",
    "\n",
    "for filename in os.listdir(type_path):\n",
    "    file_path = os.path.join(type_path, filename)\n",
    "    if os.path.isfile(file_path):\n",
    "        df = pd.read_csv(file_path)\n",
    "        if \"level_selection\" in file_path:\n",
    "            if filename not in hash_data:\n",
    "                hash_data[filename] = []\n",
    "                environments[filename] = {}\n",
    "            for i in range(len(df)):\n",
    "                battle_environment = df.loc[i, 'BattleEnvironment']\n",
    "                battle_id = df.loc[i, 'ID']\n",
    "                if battle_environment not in environments:\n",
    "                    environments[filename][battle_environment] = [0, 0, 0, 0, 0]\n",
    "                if battle_id not in hash_data:\n",
    "                    level = df.loc[i, 'Level']\n",
    "                    environments[filename][battle_environment][level] = environments[filename][battle_environment][level] + 1\n",
    "                    hash_data[filename].append(battle_id)\n",
    "        elif \"level_configuration\" in filename:\n",
    "            for i in range(len(df)):\n",
    "              config = df.iloc[i].values.tolist()\n",
    "              print(config)\n",
    "              configuration_data[config[0]] = config[1:]\n",
    "              configuration_data[\"1\"] = config[1:]\n",
    "        else:\n",
    "            configurations = []\n",
    "            adventurer_type = filename.split('_')[0]\n",
    "            for i in range(len(df)):\n",
    "                level = df.loc[i, 'Level']\n",
    "                max_steps = df.loc[i, 'MaxCount']\n",
    "                configuration = df.loc[i, 'Configuration']\n",
    "                if configuration not in game_play_data:\n",
    "                    game_play_data[configuration] = {\n",
    "                        \"Brawler\": [[], [], [], [], []],\n",
    "                        \"Mage\": [[], [], [], [], []],\n",
    "                        \"Swordsman\": [[], [], [], [], []]\n",
    "                    }\n",
    "                    graph_data[configuration] = {}\n",
    "                    configurations.append(configuration)\n",
    "                \n",
    "                game_play_data[configuration][adventurer_type][level-1].append(max_steps)\n",
    "            \n",
    "            for config_id in configurations:\n",
    "                for key in game_play_data[config_id]:\n",
    "                    graph_data[config_id][key] = [[], [], [], [], []]\n",
    "                    for x in range(level_cap):\n",
    "                        if len(game_play_data[config_id][key][x]) > 0:\n",
    "                            graph_data[config_id][key][x] = mean(game_play_data[config_id][key][x])"
   ]
  },
  {
   "cell_type": "code",
   "execution_count": 5,
   "id": "09050a19",
   "metadata": {},
   "outputs": [
    {
     "name": "stdout",
     "output_type": "stream",
     "text": [
      "{'d613307e-f819-4cb8-b644-061917326729': {'Brawler': [[194, 1373, 4175, 4789, 6077, 7725, 812, 2989], [2447, 8693, 9367, 555, 2900, 4659, 9057, 9048], [7205, 7874, 4763, 9837, 1579, 2726, 4356, 2323], [6952, 3472, 1604, 2376, 6714, 177], [2574, 0]], 'Mage': [[1503, 1987, 2117, 2499, 2748, 2815, 4564, 6963, 8923, 9367, 985, 178], [3390, 6724, 7725, 7974, 8211, 8211, 972, 2156, 2496, 2321], [8923, 3524, 5079, 5576, 6498, 8102, 9546, 841, 7793, 3237], [4709, 5687, 1248, 4734, 4734, 572, 2192, 2967, 8174, 2906], [8377, 0, 1458, 0]], 'Swordsman': [[194, 1202, 1503, 1505, 1563, 2004, 2004, 2748, 1893, 2368, 2989, 93, 297, 36], [1202, 1987, 2664, 2832, 3390, 3788, 446, 446, 2446, 5079, 5576, 6411], [4589, 4589, 6963, 7935, 2498, 2900, 5920, 6498, 3673, 5036, 9048, 148], [6005, 1638, 2806, 7178, 7506, 8008, 2541, 2626, 3464, 312, 585, 253], [8254, 0, 1218, 0, 1724, 0, 2790, 0]]}, '1bfdd40a-e7ae-44e5-b079-1f4b3d3cbee7': {'Brawler': [[290, 290, 1056, 1284, 3890, 9075, 2849, 4723, 6474, 514, 5682, 1622, 1549, 2173, 7089, 94, 189, 153, 2781, 2306, 2673, 5961, 2178, 4652, 4586, 291, 855, 63, 4685, 129, 3294, 138, 2472, 3470, 493, 3963, 7497, 4265, 2611, 1110, 1770, 241, 205, 1071, 1152, 252, 97, 5174, 3667, 273, 2361, 4037, 1818, 2772, 2156, 102, 2463, 3200, 2534, 555, 1677], [3750, 4893, 5309, 8321, 9803, 1427, 2887, 6645, 9940, 4106, 5229, 6182, 6882, 8142, 1549, 925, 5039, 2381, 4879, 73, 1775, 310, 3102, 4461, 7571, 7605, 599, 5853, 4017, 2005, 4076, 886, 4203, 5705, 9102, 5157, 4087, 48, 5213, 6171, 1386, 2539, 4280, 3744, 2367, 174, 2721, 1112, 1551, 7789, 1809, 4560, 5205, 2435, 731, 4802, 8272, 225, 6656, 2876, 2202], [9590, 5291, 7558, 43, 118, 3206, 3541, 4702, 8458, 1598, 5498, 1481, 1464, 5649, 5740, 888, 8342, 4469, 7065, 8286, 3686, 4134, 875, 4921, 6090, 6889, 1556, 2434, 1140, 5687, 1052, 3537, 484, 1889, 1083, 996, 2961, 8623, 2838, 9371, 9182, 6694, 6750, 5111, 1252, 519, 4125, 1106, 7751, 1867, 9099, 2307, 6460, 6175, 1599, 360, 1522, 464, 268, 9803, 96], [2284, 9392, 1107, 3611, 6829, 717, 2727, 3325, 2477, 5839, 3544, 6165, 6165, 5070, 5842, 2241, 2041, 5842, 6395, 7790, 7761, 7989, 550, 7939, 1774, 1023, 1286, 5486, 8320, 5198, 6796, 3649, 4876, 2924, 1304, 5426, 8019, 859, 2178, 8310, 918, 1903, 8110, 7627, 2289, 2806, 1013, 2019, 5512, 9866, 2828, 9652, 9470, 866, 576, 1329, 1480, 3878, 9674, 9931], [2332, 0, 407, 0, 2191, 0, 9337, 0, 1956, 0, 3169, 0, 4827, 0, 1131, 0, 3287, 0, 337, 0, 5090, 0, 7636, 0, 217, 0, 1005, 0, 1674, 0, 5946, 0, 5890, 0, 304, 0, 732, 0, 1249, 0, 3610, 0, 1886, 0, 4871, 0, 7416, 0, 8869, 0, 5156, 0, 8381, 0, 9487, 0, 2868, 0, 907, 0, 9882, 0, 3305, 0, 1105, 0, 1712, 0, 2816, 0, 2816, 0, 5408, 0, 1572, 0, 3238, 0, 4906, 0, 9396, 0, 3699, 0, 820, 0, 1263, 0, 6844, 0, 436, 0, 2171, 0, 3208, 0, 4962, 0, 8555, 0, 8691, 0, 66, 0, 670, 0, 2030, 0]], 'Mage': [[631, 762, 871, 871, 1284, 1300, 3022, 3065, 3750, 3806, 4391, 443, 954, 295, 996, 1371, 819, 285, 3777, 579, 3330, 3131, 4630, 2028, 516, 72, 2148, 3926, 1773, 1082, 9243, 279, 461, 118, 397, 1083, 3330, 3734, 3351, 379, 2739, 126, 792, 423, 120, 910, 8386, 4858, 304, 3048, 1265, 6204, 288, 273, 6759, 615, 1025, 241, 1828, 300, 231, 436, 2755, 599, 140, 535, 1416, 474, 530, 303, 2531, 100, 6763, 140, 8163, 1527, 609, 5116, 1563, 182, 1723, 59, 134, 151, 164, 411, 114, 4197, 226, 1593, 3894, 29, 576, 1945, 81, 1934, 1791, 5658, 2363, 6909], [1569, 2256, 3022, 4893, 4991, 5625, 6604, 6676, 8321, 1777, 2375, 4940, 2707, 2754, 4023, 3102, 1625, 1253, 2605, 6473, 7692, 9086, 5886, 456, 1591, 4954, 32, 347, 1726, 1375, 185, 129, 9050, 9850, 2799, 6087, 5970, 131, 9420, 112, 6406, 5622, 1751, 2044, 1545, 1088, 1177, 9614, 7662, 2912, 8911, 455, 710, 2033, 9672, 1079, 9738, 2642, 8422, 8777, 8777, 4950, 3103, 3174, 748, 3031, 1297, 2267, 2156, 796, 820, 846, 4251, 3782, 1024, 8517, 2679, 6663, 2018, 3744, 2999, 6609, 5217, 4701, 4713, 2592, 5631, 8490, 2964, 2547, 6366, 5455, 1357, 1655, 2977, 1361, 4174, 7646, 7644, 7967, 8435], [4138, 9225, 2368, 2375, 4384, 4995, 4995, 5962, 987, 1427, 2520, 4581, 5781, 3182, 5839, 6590, 6706, 8784, 3673, 1684, 4258, 4540, 5657, 1464, 3804, 1195, 493, 8211, 750, 1359, 6395, 768, 5799, 4626, 6767, 2644, 1137, 2729, 901, 6454, 6854, 5992, 8626, 3100, 4386, 3363, 6387, 998, 1511, 404, 7976, 3891, 1062, 3264, 1837, 8182, 721, 889, 4125, 5442, 9142, 2291, 2834, 1241, 4177, 4479, 4762, 460, 4611, 7277, 4325, 6531, 2873, 6722, 5034, 5380, 6725, 1426, 3657, 7935, 3935, 2212, 174, 1793, 2912, 3758, 5666, 5398, 1276, 54, 5432, 241, 822, 404, 2549, 4806, 2634, 8611, 9267, 3831, 884, 220], [1927, 4258, 6735, 8322, 8846, 3311, 3311, 1694, 1757, 6904, 5164, 430, 3124, 7340, 391, 6395, 36, 8308, 9004, 1534, 524, 547, 1131, 3772, 5070, 5890, 7720, 6396, 6496, 8987, 9347, 9127, 961, 8109, 7849, 5709, 6561, 8964, 3234, 4163, 7141, 681, 68, 919, 4350, 81, 4774, 5247, 204, 1343, 1894, 8060, 823, 2193, 9237, 9552, 178, 297, 528, 686, 1241, 1294, 4345, 6765, 9498, 9531, 741, 8127, 7193, 8863, 734, 135, 1663, 635, 2471, 3265, 6727, 4196, 1794, 4316, 7327, 9032, 9362, 9559, 2079, 7990, 8079, 555, 1905, 214, 5758, 8844, 3056, 7623, 2062, 2344, 3327, 3327], [7800, 0, 8786, 0, 8887, 0, 9380, 0, 462, 0, 1939, 0, 2846, 0, 2386, 0, 2605, 0, 3984, 0, 7037, 0, 8096, 0, 342, 0, 4238, 0, 3191, 0, 7744, 0, 735, 0, 2297, 0, 4801, 0, 4385, 0, 800, 0, 7145, 0, 309, 0, 7641, 0, 85, 0, 1042, 0, 6464, 0, 3667, 0, 8691, 0, 66, 0, 229, 0, 732, 0, 1817, 0, 2776, 0, 3736, 0, 5566, 0, 2574, 0, 7554, 0, 7897, 0, 1304, 0, 542, 0, 3970, 0, 4432, 0, 4814, 0, 214, 0, 2096, 0, 2683, 0, 8107, 0, 8939, 0, 1500, 0, 2042, 0, 1440, 0, 528, 0, 596, 0, 2798, 0, 3548, 0, 3548, 0, 1364, 0, 1364, 0, 2175, 0, 2184, 0, 2478, 0, 8312, 0, 1151, 0, 1997, 0, 2888, 0, 9988, 0, 1949, 0, 2393, 0, 7382, 0, 7898, 0, 9503, 0, 551, 0, 4571, 0, 8079, 0, 8193, 0, 868, 0, 1181, 0, 1181, 0, 1779, 0, 4074, 0, 4274, 0, 1329, 0, 1945, 0, 4579, 0, 2977, 0, 9620, 0, 958, 0, 1815, 0]], 'Swordsman': [[647, 688, 762, 792, 2416, 4991, 589, 327, 1332, 1038, 2280, 129, 3375, 79, 62, 858, 1123, 302, 60, 4933, 2559, 114, 75, 84, 171, 3019, 429, 2013, 4652, 2649, 48, 304, 179, 4406, 234, 171, 378, 543, 2319, 899, 57, 1174, 1953, 1305, 3951, 567, 3165, 4341, 3275, 1698, 396, 3561, 403, 65, 312, 2346, 699, 6645, 259, 1107, 2091, 568, 867, 1564, 2877, 3618, 1690, 4446, 248, 1662, 4056, 186, 113, 6321], [1569, 2806, 2966, 3631, 50, 1769, 8008, 3068, 3156, 3645, 3952, 3265, 5406, 3274, 946, 1566, 2469, 5280, 3458, 837, 3423, 6289, 2675, 2430, 5438, 1209, 843, 3732, 864, 2136, 8133, 4245, 2603, 865, 3441, 4829, 573, 1377, 916, 2799, 3363, 843, 2688, 634, 2344, 7053, 6780, 4869, 4869, 5841, 4805, 473, 2708, 3984, 3371, 3681, 3179, 3789, 2573, 8016, 1091, 3383, 6243, 245, 7085, 162, 2439, 59, 6869, 2844, 682, 2075, 4519, 8097, 321, 78, 911, 7608], [755, 2106, 2955, 5017, 6425, 19, 461, 1107, 3768, 6329, 7071, 8502, 4606, 7656, 1963, 5649, 5103, 1109, 7865, 7755, 8776, 7493, 1081, 8589, 8541, 5949, 2783, 7362, 4154, 5921, 6406, 2709, 8416, 5437, 7026, 1327, 2094, 9096, 4044, 8235, 267, 9036, 6672, 5058, 908, 7857, 8266, 1798, 7921, 3023, 8463, 7537, 4242, 6761, 8304, 7953, 6186, 8775, 615, 4907, 8742, 4590, 353, 2024, 1802, 3151, 4687, 4198, 6844, 992, 7260, 8507, 6967, 6383, 7707, 308, 1098, 5571, 5525, 680], [461, 3994, 4063, 4474, 5265, 6253, 6992, 3762, 5692, 7398, 9754, 2611, 4979, 1627, 1371, 7744, 9955, 1571, 2063, 6548, 9170, 862, 7689, 3707, 149, 7652, 393, 6647, 4814, 2905, 1535, 5753, 2142, 8598, 5732, 6330, 1922, 5597, 2597, 5160, 5890, 1667, 4966, 374, 123, 3344, 3412, 6796, 1190, 1987, 55, 427, 8349, 6925, 7596, 9511, 2508, 6094, 1688, 1294, 439, 4343, 4123, 391, 75, 384, 7127, 5364, 6553, 1258, 2113, 413, 143, 9394, 2845, 7507, 3592], [9086, 0, 320, 0, 69, 0, 1809, 0, 7084, 0, 9472, 0, 7145, 0, 3456, 0, 150, 0, 1560, 0, 7430, 0, 7430, 0, 1002, 0, 2184, 0, 4736, 0, 9612, 0, 1513, 0, 5797, 0, 6541, 0, 9084, 0, 1564, 0, 5905, 0, 4636, 0, 7818, 0, 7944, 0, 4329, 0, 601, 0, 364, 0, 6843, 0, 6955, 0, 172, 0, 4967, 0, 6124, 0, 9218, 0, 1063, 0, 8222, 0, 7796, 0, 8644, 0, 1007, 0, 6029, 0, 770, 0, 4423, 0, 5882, 0, 7928, 0, 36, 0, 775, 0, 3979, 0, 4805, 0, 1127, 0, 1699, 0, 786, 0, 4064, 0, 4699, 0, 3226, 0, 3392, 0, 5239, 0, 1984, 0, 3281, 0, 2651, 0, 6570, 0, 2701, 0, 6818, 0, 321, 0, 273, 0, 2448, 0, 3492, 0, 9875, 0, 4923, 0, 8280, 0, 8427, 0]]}}\n"
     ]
    }
   ],
   "source": [
    "print(game_play_data)"
   ]
  },
  {
   "cell_type": "code",
   "execution_count": 6,
   "id": "VOE7PnkEA88C",
   "metadata": {
    "id": "VOE7PnkEA88C"
   },
   "outputs": [
    {
     "name": "stdout",
     "output_type": "stream",
     "text": [
      "{'c8e345a5-a063-4a6c-8fd7-0e2fa8a93190': [0.4230763, 0.5729685, 0.4784689], '1': [0.4811949, 0.5823722, 0.5016915], 'd613307e-f819-4cb8-b644-061917326729': [0.4719957, 0.5025854, 0.4560405], 'c295a661-f166-4be0-b3f4-7794d4ca79b4': [0.5587001, 0.5503647, 0.5768477], '049d5dbd-188a-4cbf-bfd3-9ff1c990a295': [0.5883144, 0.5325123, 0.4641197], '658aba3c-1d87-4152-9e44-457568109315': [0.507669, 0.5179966, 0.4963874], 'c3e55291-d7e2-4e28-b25a-725135537939': [0.4132038, 0.4555688, 0.4205619], 'baf45b9d-fc72-441e-9858-aecfecae7b14': [0.4057138, 0.4434852, 0.4150411], '5ddb5e77-95ed-4bff-a6cb-02e1532ac7f8': [0.5461384, 0.5928363, 0.5209548], '63785fd0-ae64-447c-a5f3-ef134ae28b80': [0.5657998, 0.4339453, 0.4486905], 'c743d528-93e6-4471-899e-f250ff964d01': [0.4934529, 0.4983884, 0.4398314], '4d38de33-6f15-4547-b401-85e0db1ee9d0': [0.5575743, 0.5841337, 0.4227229], 'e707cad4-3366-410c-bc05-6db274f9bdba': [0.5700304, 0.4598914, 0.5361736], '9528eb92-7d99-476f-b988-dde40d4962d5': [0.4082832, 0.4112666, 0.4284065], '0a3131b8-1b29-4064-8fd8-c0a06104ab28': [0.4362549, 0.4208434, 0.5382634], '568079b0-34b6-4bb6-8c54-586d3b5c5da1': [0.4584654, 0.4401507, 0.5904244], 'c0e450fa-0d56-42ee-8983-a20e32e7364a': [0.5234028, 0.5564292, 0.5141313], '1bfdd40a-e7ae-44e5-b079-1f4b3d3cbee7': [0.4811949, 0.5823722, 0.5016915]}\n"
     ]
    }
   ],
   "source": [
    "# preseed reviews\n",
    "reviews = {  }\n",
    "from sklearn.model_selection import train_test_split\n",
    "y = list(reviews.keys())\n",
    "labels = []\n",
    "labeled_config = []\n",
    "\n",
    "for key in y:\n",
    "    if key in graph_data:\n",
    "        data = graph_data[k].values()\n",
    "        labeled_config.append(data)\n",
    "        labels.append(reviews[key])\n",
    "        \n",
    "\n",
    "unlabeled_data_const = configuration_data\n",
    "print(unlabeled_data_const)"
   ]
  },
  {
   "cell_type": "code",
   "execution_count": 7,
   "id": "895f33f2",
   "metadata": {},
   "outputs": [],
   "source": [
    "import numpy as np\n",
    "\n",
    "def draw_graph(game_data):\n",
    "    labels = ['1', '2', '3', '4', '5', '6', '7', '8']\n",
    "    x = np.arange(len(labels))  # the label locations\n",
    "    width = 0.35  # the width of the bars\n",
    "\n",
    "    fig, ax = plt.subplots()\n",
    "    brawler_data = game_data[\"Brawler\"]\n",
    "    rects1 = ax.bar(x - width/2, brawler_data, width, label=\"Brawler\")\n",
    "\n",
    "    mage_data = game_data[\"Mage\"]\n",
    "    rects2 = ax.bar(x, mage_data, width, label=\"Mage\")\n",
    "\n",
    "    swordsman_data = game_data[\"Swordsman\"]\n",
    "    rects3 = ax.bar(x + width/2, swordsman_data, width, label=\"Swordsman\")\n",
    "\n",
    "    # Add some text for labels, title and custom x-axis tick labels, etc.\n",
    "    ax.set_ylabel('Time Steps')\n",
    "    ax.set_title('Time Steps To Next Level')\n",
    "    ax.set_xticks(x, labels)\n",
    "    ax.legend()\n",
    "\n",
    "    fig.tight_layout()\n",
    "\n",
    "    plt.show()"
   ]
  },
  {
   "cell_type": "code",
   "execution_count": 8,
   "id": "0d478eee",
   "metadata": {},
   "outputs": [],
   "source": [
    "def ask_question(adventurer_type):\n",
    "  return int ( input (\"On a scale of 1-5, how difficult progress is with the {adventurer_type} character compared to other playable characters\\nwith 1 (unfair) too challenging, 3 fair, and 5 (unfair) too easy.\") )"
   ]
  },
  {
   "cell_type": "code",
   "execution_count": null,
   "id": "647e936b",
   "metadata": {},
   "outputs": [],
   "source": [
    "unlabeled_gameplay_data = game_play_data.copy()\n",
    "print(unlabeled_gameplay_data)\n",
    "unlabeled_config_data = unlabeled_data_const.copy()\n",
    "# assign random values\n",
    "num_data = len(unlabeled_data_const)\n",
    "num_assign = max(1, int(len(unlabeled_data_const) / 10))\n",
    "label_gameplay_data = []\n",
    "label_config_data = []\n",
    "balance_labels = []\n",
    "print(\"gathering \" + str(num_assign) + \" values\")\n",
    "for x in range(num_assign):\n",
    "    dates = unlabeled_config_data.items()\n",
    "    date, config = random.choice(list(dates))\n",
    "    if date in unlabeled_gameplay_data:\n",
    "        label_config_data.append(config)\n",
    "        gameplay_data = unlabeled_gameplay_data[date]\n",
    "        keys = [\"Brawler\", \"Mage\", \"Swordsman\"]\n",
    "        graph_data = {}\n",
    "        for key in keys:\n",
    "            filter_data = np.array([row for row in gameplay_data[key] if len(row)==8])\n",
    "            filter_data = filter_data.mean(axis=0)\n",
    "            graph_data[key] = filter_data\n",
    "        print(graph_data)\n",
    "        draw_graph(graph_data)\n",
    "        sword = ask_question(\"Swordsman\")\n",
    "        mage = ask_question(\"Mage\")\n",
    "        brawler = ask_question(\"Brawler\")\n",
    "        label_gameplay_data.append\n",
    "        one_hot = [sword, mage, brawler]\n",
    "        balance_labels.append(one_hot)\n",
    "        label_gameplay_data.append(gameplay_data)\n",
    "        unlabeled_gameplay_data.pop(date)\n",
    "    else:\n",
    "        print(\"Oh no\")"
   ]
  },
  {
   "cell_type": "code",
   "execution_count": 18,
   "id": "7e000058",
   "metadata": {},
   "outputs": [
    {
     "name": "stdout",
     "output_type": "stream",
     "text": [
      "[[0.4719957, 0.5025854, 0.4560405], {'Brawler': [[194, 1373, 4175, 4789, 6077, 7725, 812, 2989], [2447, 8693, 9367, 555, 2900, 4659, 9057, 9048], [7205, 7874, 4763, 9837, 1579, 2726, 4356, 2323], [6952, 3472, 1604, 2376, 6714, 177], [2574, 0]], 'Mage': [[1503, 1987, 2117, 2499, 2748, 2815, 4564, 6963, 8923, 9367, 985, 178], [3390, 6724, 7725, 7974, 8211, 8211, 972, 2156, 2496, 2321], [8923, 3524, 5079, 5576, 6498, 8102, 9546, 841, 7793, 3237], [4709, 5687, 1248, 4734, 4734, 572, 2192, 2967, 8174, 2906], [8377, 0, 1458, 0]], 'Swordsman': [[194, 1202, 1503, 1505, 1563, 2004, 2004, 2748, 1893, 2368, 2989, 93, 297, 36], [1202, 1987, 2664, 2832, 3390, 3788, 446, 446, 2446, 5079, 5576, 6411], [4589, 4589, 6963, 7935, 2498, 2900, 5920, 6498, 3673, 5036, 9048, 148], [6005, 1638, 2806, 7178, 7506, 8008, 2541, 2626, 3464, 312, 585, 253], [8254, 0, 1218, 0, 1724, 0, 2790, 0]]}]\n"
     ]
    }
   ],
   "source": [
    "print(label_data)"
   ]
  },
  {
   "cell_type": "code",
   "execution_count": null,
   "id": "bN88s0qkDDAr",
   "metadata": {
    "id": "bN88s0qkDDAr"
   },
   "outputs": [],
   "source": [
    "train_data, train_labels, val_data, val_labels = train_test_split(label_data, labels, test_size=0.1)"
   ]
  },
  {
   "cell_type": "code",
   "execution_count": null,
   "id": "HXgPXUNsGVg5",
   "metadata": {
    "id": "HXgPXUNsGVg5"
   },
   "outputs": [],
   "source": [
    "# Helper function for merging new history objects with older ones\n",
    "def append_history(losses, val_losses, accuracy, val_accuracy, history):\n",
    "    losses = losses + history.history[\"loss\"]\n",
    "    val_losses = val_losses + history.history[\"val_loss\"]\n",
    "    accuracy = accuracy + history.history[\"categorical_accuracy\"]\n",
    "    val_accuracy = val_accuracy + history.history[\"val_categorical_accuracy\"]\n",
    "    return losses, val_losses, accuracy, val_accuracy\n",
    "\n",
    "\n",
    "# Plotter function\n",
    "def plot_history(losses, val_losses, accuracies, val_accuracies):\n",
    "    plt.plot(losses)\n",
    "    plt.plot(val_losses)\n",
    "    plt.legend([\"train_loss\", \"val_loss\"])\n",
    "    plt.xlabel(\"Epochs\")\n",
    "    plt.ylabel(\"Loss\")\n",
    "    plt.show()\n",
    "\n",
    "    plt.plot(accuracies)\n",
    "    plt.plot(val_accuracies)\n",
    "    plt.legend([\"train_accuracy\", \"val_accuracy\"])\n",
    "    plt.xlabel(\"Epochs\")\n",
    "    plt.ylabel(\"Accuracy\")\n",
    "    plt.show()"
   ]
  },
  {
   "cell_type": "code",
   "execution_count": null,
   "id": "0wWG257MASxZ",
   "metadata": {
    "id": "0wWG257MASxZ"
   },
   "outputs": [],
   "source": [
    "import tensorflow as tf"
   ]
  },
  {
   "cell_type": "code",
   "execution_count": null,
   "id": "88129aa5",
   "metadata": {
    "id": "88129aa5"
   },
   "outputs": [],
   "source": [
    "def make_model():\n",
    "  x = Input(shape=(3,), name=\"Game Play Data\")\n",
    "\n",
    "  g = Dense(500, activation='relu')(x)\n",
    "  g = Dense(100, activation='relu')(g)\n",
    "  g = Dense(50, activation='relu')(g)\n",
    "  g = Dense(3, activation='softmax')(g)\n",
    "  model = Model(inputs=x, outputs=g)\n",
    "  return model"
   ]
  },
  {
   "cell_type": "code",
   "execution_count": null,
   "id": "FRYh7cG6Q3wL",
   "metadata": {
    "colab": {
     "base_uri": "https://localhost:8080/"
    },
    "id": "FRYh7cG6Q3wL",
    "outputId": "46aa27bc-cd7c-4c4f-ec85-d64718bfe296"
   },
   "outputs": [],
   "source": [
    "print(train_data)"
   ]
  },
  {
   "cell_type": "code",
   "execution_count": null,
   "id": "PrQGne8ovciZ",
   "metadata": {
    "colab": {
     "base_uri": "https://localhost:8080/"
    },
    "id": "PrQGne8ovciZ",
    "outputId": "1ccaed34-4afa-461a-fcce-fdcbc47d3557"
   },
   "outputs": [],
   "source": [
    "num_iterations=3\n",
    "sampling_size=5000\n",
    "# inspired from this https://keras.io/examples/nlp/active_learning_review_classification/\n",
    "model = make_model()\n",
    "model.compile(loss=\"categorical_crossentropy\", optimizer=opt, metrics=[\n",
    "          keras.metrics.CategoricalAccuracy(),\n",
    "          keras.metrics.FalseNegatives(),\n",
    "          keras.metrics.FalsePositives(),\n",
    "      ],)\n",
    "losses, val_losses, accuracies, val_accuracies = [], [], [], []\n",
    "\n",
    "# Defining checkpoints.\n",
    "# The checkpoint callback is reused throughout the training since it only saves the best overall model.\n",
    "checkpoint = keras.callbacks.ModelCheckpoint(\n",
    "    \"AL_Model.h5\", save_best_only=True, verbose=1\n",
    ")\n",
    "# Here, patience is set to 4. This can be set higher if desired.\n",
    "early_stopping = keras.callbacks.EarlyStopping(patience=4, verbose=1)\n",
    "\n",
    "print(f\"Starting to train with {len(train_data)} samples\")\n",
    "# Initial fit with a small subset of the training set\n",
    "history = model.fit(\n",
    "    x=train_data,\n",
    "    y=train_labels,\n",
    "    epochs=20,\n",
    "    validation_data=(val_data, val_labels),\n",
    "    callbacks=[checkpoint, early_stopping],\n",
    ")\n",
    "\n",
    "# Appending history\n",
    "losses, val_losses, accuracies, val_accuracies = append_history(\n",
    "    losses, val_losses, accuracies, val_accuracies, history\n",
    ")"
   ]
  },
  {
   "cell_type": "code",
   "execution_count": null,
   "id": "ohoqlbIKyXTc",
   "metadata": {
    "id": "ohoqlbIKyXTc"
   },
   "outputs": [],
   "source": [
    "import matplotlib.pyplot as plt\n",
    "%matplotlib inline"
   ]
  },
  {
   "cell_type": "code",
   "execution_count": null,
   "id": "acUFA1ffAtq9",
   "metadata": {
    "colab": {
     "base_uri": "https://localhost:8080/",
     "height": 389
    },
    "id": "acUFA1ffAtq9",
    "outputId": "993a25e8-6528-4aa8-9360-c3e1a4c9b93e"
   },
   "outputs": [],
   "source": [
    "used = []\n",
    "label_al = labels\n",
    "label_data_al = label_data\n",
    "for iteration in range(num_iterations):\n",
    "  # Getting predictions from previously trained model\n",
    "  predictions = model.predict(unlabeled_data)\n",
    "  length = min(len(predictions), 10)\n",
    "  minValue = 1\n",
    "  index = -1\n",
    "  for x in range(length):\n",
    "    if x not in used:\n",
    "      predict = predictions[x]\n",
    "      maxValue = max(predict)\n",
    "      if maxValue < minValue:\n",
    "        minValue = maxValue\n",
    "        index = x\n",
    "  if index != 1:\n",
    "    used.append(index)\n",
    "    draw_graph()\n",
    "    num = ask_question(\"Swordsman\")\n",
    "    mage = ask_question(\"Mage\")\n",
    "    brawler = ask_question(\"Mage\")\n",
    "    v = int(num) - 1\n",
    "    one_hot = [0, 0, 0]\n",
    "    one_hot[v] = 1\n",
    "    d = unlabeled_data[index]\n",
    "    label_data_al.append(d)\n",
    "    label_al.append(one_hot)\n",
    "  print(len(label_data_al))\n",
    "  print(len(label_al))\n",
    "  \n",
    "\n",
    "  al_train_data, al_val_data, al_train_labels, al_val_labels = train_test_split(label_data_al, label_al, test_size=0.1)\n",
    "  print(len(al_train_data))\n",
    "  print(len(al_train_labels))\n",
    "\n",
    "  print(len(al_val_data))\n",
    "  print(len(al_val_labels))\n",
    "\n",
    "  # We recompile the model to reset the optimizer states and retrain the model\n",
    "  model.compile(\n",
    "      loss=\"categorical_crossentropy\",\n",
    "      optimizer=\"rmsprop\",\n",
    "      metrics=[\n",
    "          keras.metrics.CategoricalAccuracy(),\n",
    "          keras.metrics.FalseNegatives(),\n",
    "          keras.metrics.FalsePositives(),\n",
    "      ],\n",
    "  )\n",
    "  history = model.fit(\n",
    "      x=al_train_data,\n",
    "      y=al_train_labels,\n",
    "      validation_data=(al_val_data, al_val_labels),\n",
    "      epochs=20\n",
    "  )\n",
    "\n",
    "  # Appending the history\n",
    "  losses, val_losses, accuracies, val_accuracies = append_history(\n",
    "      losses, val_losses, accuracies, val_accuracies, history\n",
    "  )\n",
    "\n",
    "  # Loading the best model from this training loop\n",
    "  model = keras.models.load_model(\"AL_Model.h5\")"
   ]
  },
  {
   "cell_type": "code",
   "execution_count": null,
   "id": "2vA_5vlSRXL_",
   "metadata": {
    "id": "2vA_5vlSRXL_"
   },
   "outputs": [],
   "source": [
    "# Plotting the overall history and evaluating the final model\n",
    "  plot_history(losses, val_losses, accuracies, val_accuracies)\n",
    "  print(\"-\" * 100)\n",
    "  print(\n",
    "      \"Test set evaluation: \",\n",
    "      model.evaluate(test_dataset, verbose=0, return_dict=True),\n",
    "  )\n",
    "  print(\"-\" * 100)"
   ]
  },
  {
   "cell_type": "code",
   "execution_count": null,
   "id": "4e467ce8",
   "metadata": {
    "id": "4e467ce8"
   },
   "outputs": [],
   "source": [
    "from keras.utils.vis_utils import plot_model\n",
    "plot_model(model, to_file='model_plot.png', show_shapes=True, show_layer_names=True)"
   ]
  }
 ],
 "metadata": {
  "colab": {
   "include_colab_link": true,
   "name": "active_learning.ipynb",
   "provenance": []
  },
  "kernelspec": {
   "display_name": "Python 3 (ipykernel)",
   "language": "python",
   "name": "python3"
  },
  "language_info": {
   "codemirror_mode": {
    "name": "ipython",
    "version": 3
   },
   "file_extension": ".py",
   "mimetype": "text/x-python",
   "name": "python",
   "nbconvert_exporter": "python",
   "pygments_lexer": "ipython3",
   "version": "3.9.16"
  }
 },
 "nbformat": 4,
 "nbformat_minor": 5
}
