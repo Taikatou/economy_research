{
 "cells": [
  {
   "cell_type": "markdown",
   "id": "87591cc6",
   "metadata": {
    "colab_type": "text",
    "id": "view-in-github"
   },
   "source": [
    "<a href=\"https://colab.research.google.com/github/Taikatou/economy_research/blob/master/Analytics/active_learning.ipynb\" target=\"_parent\"><img src=\"https://colab.research.google.com/assets/colab-badge.svg\" alt=\"Open In Colab\"/></a>"
   ]
  },
  {
   "cell_type": "code",
   "execution_count": 1,
   "id": "6eebf992",
   "metadata": {
    "id": "6eebf992"
   },
   "outputs": [],
   "source": [
    "from keras.models import Sequential\n",
    "from keras.layers import Dense, Input, Concatenate\n",
    "from keras import Model\n",
    "from tensorflow import keras"
   ]
  },
  {
   "cell_type": "code",
   "execution_count": 2,
   "id": "0513b960",
   "metadata": {
    "id": "0513b960"
   },
   "outputs": [],
   "source": [
    "import os\n",
    "import pandas as pd\n",
    "import numpy as np\n",
    "from statistics import mean\n",
    "import matplotlib.pyplot as plt\n",
    "%matplotlib inline"
   ]
  },
  {
   "cell_type": "code",
   "execution_count": 3,
   "id": "08dbd3c0",
   "metadata": {
    "id": "08dbd3c0"
   },
   "outputs": [],
   "source": [
    "opt = keras.optimizers.Adam()"
   ]
  },
  {
   "cell_type": "code",
   "execution_count": 4,
   "id": "8ada1700",
   "metadata": {
    "id": "8ada1700"
   },
   "outputs": [],
   "source": [
    "type_path = \"E:\\TestData\"\n",
    "game_play_data = { }\n",
    "hash_data = {}\n",
    "environments = {}"
   ]
  },
  {
   "cell_type": "code",
   "execution_count": 8,
   "id": "82bdbec6",
   "metadata": {
    "colab": {
     "base_uri": "https://localhost:8080/"
    },
    "id": "82bdbec6",
    "outputId": "a61c2ab1-4ab3-4231-f8b2-a16234e8c8d2"
   },
   "outputs": [
    {
     "name": "stdout",
     "output_type": "stream",
     "text": [
      "['02/08/2022 00:32:31', 0.2001211, 0.1932651, 0.2002864]\n"
     ]
    }
   ],
   "source": [
    "level_cap = 5\n",
    "configuration_data = {}\n",
    "graph_data = { }\n",
    "\n",
    "for filename in os.listdir(type_path):\n",
    "    file_path = os.path.join(type_path, filename)\n",
    "    if os.path.isfile(file_path):\n",
    "        df = pd.read_csv(file_path)\n",
    "        if \"level_selection\" in file_path:\n",
    "            if filename not in hash_data:\n",
    "                hash_data[filename] = []\n",
    "                environments[filename] = {}\n",
    "            for i in range(len(df)):\n",
    "                battle_environment = df.loc[i, 'BattleEnvironment']\n",
    "                battle_id = df.loc[i, 'ID']\n",
    "                if battle_environment not in environments:\n",
    "                    environments[filename][battle_environment] = [0, 0, 0, 0, 0]\n",
    "                if battle_id not in hash_data:\n",
    "                    level = df.loc[i, 'Level']\n",
    "                    environments[filename][battle_environment][level] = environments[filename][battle_environment][level] + 1\n",
    "                    hash_data[filename].append(battle_id)\n",
    "        elif \"level_configuration\" in filename:\n",
    "            for i in range(len(df)):\n",
    "              config = df.iloc[i].values.tolist()\n",
    "              print(config)\n",
    "              configuration_data[config[0]] = config[1:]\n",
    "              configuration_data[\"1\"] = config[1:]\n",
    "        else:\n",
    "            file_id = filename.split('_', 1)[1].split(\".\")[0]\n",
    "            if file_id not in game_play_data:\n",
    "                game_play_data[file_id] = {\n",
    "                    \"Brawler\": [[], [], [], [], []],\n",
    "                    \"Mage\": [[], [], [], [], []],\n",
    "                    \"Swordsman\": [[], [], [], [], []]\n",
    "                }\n",
    "                graph_data[file_id] = {}\n",
    "            adventurer_type = filename.split('_')[0]\n",
    "            for i in range(len(df)):\n",
    "                level = df.loc[i, 'Level']\n",
    "                max_steps = df.loc[i, 'MaxCount']\n",
    "                game_play_data[file_id][adventurer_type][level-1].append(max_steps)\n",
    "            for key in game_play_data[file_id]:\n",
    "                graph_data[file_id][key] = [[], [], [], [], []]\n",
    "                for x in range(level_cap):\n",
    "                    if len(game_play_data[file_id][key][x]) > 0:\n",
    "                        graph_data[file_id][key][x] = mean(game_play_data[file_id][key][x])"
   ]
  },
  {
   "cell_type": "code",
   "execution_count": 9,
   "id": "lGnGy2L7_ezr",
   "metadata": {
    "colab": {
     "base_uri": "https://localhost:8080/"
    },
    "id": "lGnGy2L7_ezr",
    "outputId": "5387bfd8-acc5-427e-c809-6b05bf2ad86a"
   },
   "outputs": [
    {
     "name": "stdout",
     "output_type": "stream",
     "text": [
      "{'02/08/2022 00:32:31': [0.2001211, 0.1932651, 0.2002864], '1': [0.2001211, 0.1932651, 0.2002864]}\n",
      "{'1_02_08_2022_00_49.csv': {'Brawler': [[494, 1047, 1453, 9190, 11785, 12378, 14560, 20776, 20776, 378, 2840], [8829, 15548, 18060, 19795, 19863, 20417, 21139, 21762, 27576, 3054, 4660], [10534, 22181, 26814, 30327, 35099, 41009, 46389, 56164, 58369, 7926, 15190], [36723, 46389, 51863, 63547, 76626, 79677, 2328, 3964, 4257, 31775], [77339, 0, 18269, 0, 19783, 0]], 'Mage': [[1047, 2421, 4761, 9582, 12314, 12378, 13874, 14215, 15548, 29136, 5459, 3059, 1257, 5753, 9741], [4761, 9582, 13874, 19863, 20048, 21762, 27576, 32346, 34697, 39390, 1824, 3822, 8304, 6158, 15069, 3981, 9700], [14972, 22181, 29438, 34003, 36526, 38597, 42255, 46185, 51452, 59778, 7144, 6109, 14623, 9981, 20300, 26389], [26814, 37148, 49177, 61420, 70537, 72693, 72862, 73056, 76508, 80176, 29185], [75654, 0, 11982, 0, 13945, 0, 15614, 0, 17416, 0, 27051, 0, 28016, 0, 35498, 0]], 'Swordsman': [[494, 1453, 2421, 6915, 9918, 11785, 13652, 2252, 9840, 4520], [1220, 1220, 4259, 12314, 13652, 14215, 15112, 21430, 21430, 28681, 5763, 480, 6785, 2015, 15286, 10027, 14770], [14560, 14972, 20417, 22201, 25807, 28365, 28831, 35099, 37490, 42255, 66534, 13000, 13281, 13161], [29660, 34003, 37490, 41312, 48011, 49147, 50170, 64643, 68249, 77007, 2705, 23530], [7502, 0, 22249, 0, 22623, 0, 24071, 0, 24443, 0, 28730, 0, 29792, 0, 31056, 0, 33928, 0]]}, '1_02_08_2022_00_49': {'Brawler': [[494, 1047, 1453, 9190, 11785, 12378, 14560, 20776, 20776, 378, 2840], [8829, 15548, 18060, 19795, 19863, 20417, 21139, 21762, 27576, 3054, 4660], [10534, 22181, 26814, 30327, 35099, 41009, 46389, 56164, 58369, 7926, 15190], [36723, 46389, 51863, 63547, 76626, 79677, 2328, 3964, 4257, 31775], [77339, 0, 18269, 0, 19783, 0]], 'Mage': [[1047, 2421, 4761, 9582, 12314, 12378, 13874, 14215, 15548, 29136, 5459, 3059, 1257, 5753, 9741], [4761, 9582, 13874, 19863, 20048, 21762, 27576, 32346, 34697, 39390, 1824, 3822, 8304, 6158, 15069, 3981, 9700], [14972, 22181, 29438, 34003, 36526, 38597, 42255, 46185, 51452, 59778, 7144, 6109, 14623, 9981, 20300, 26389], [26814, 37148, 49177, 61420, 70537, 72693, 72862, 73056, 76508, 80176, 29185], [75654, 0, 11982, 0, 13945, 0, 15614, 0, 17416, 0, 27051, 0, 28016, 0, 35498, 0]], 'Swordsman': [[494, 1453, 2421, 6915, 9918, 11785, 13652, 2252, 9840, 4520], [1220, 1220, 4259, 12314, 13652, 14215, 15112, 21430, 21430, 28681, 5763, 480, 6785, 2015, 15286, 10027, 14770], [14560, 14972, 20417, 22201, 25807, 28365, 28831, 35099, 37490, 42255, 66534, 13000, 13281, 13161], [29660, 34003, 37490, 41312, 48011, 49147, 50170, 64643, 68249, 77007, 2705, 23530], [7502, 0, 22249, 0, 22623, 0, 24071, 0, 24443, 0, 28730, 0, 29792, 0, 31056, 0, 33928, 0]]}}\n"
     ]
    }
   ],
   "source": [
    "print(configuration_data)\n",
    "print(game_play_data)"
   ]
  },
  {
   "cell_type": "code",
   "execution_count": 10,
   "id": "944800ff",
   "metadata": {},
   "outputs": [
    {
     "name": "stdout",
     "output_type": "stream",
     "text": [
      "{'1_02_08_2022_00_49': {'Brawler': [8697, 16427, 31818, 39714, 19231], 'Mage': [9369, 16044, 28745, 59052, 14073], 'Swordsman': [6325, 11097, 26855, 43827, 12466]}}\n"
     ]
    }
   ],
   "source": [
    "print(graph_data)"
   ]
  },
  {
   "cell_type": "code",
   "execution_count": null,
   "id": "2cd132f5",
   "metadata": {},
   "outputs": [],
   "source": []
  },
  {
   "cell_type": "code",
   "execution_count": 8,
   "id": "25e73506",
   "metadata": {
    "colab": {
     "base_uri": "https://localhost:8080/"
    },
    "id": "25e73506",
    "outputId": "3bb48094-d717-41f5-ef3c-498367c6bd2f"
   },
   "outputs": [
    {
     "name": "stdout",
     "output_type": "stream",
     "text": [
      "['02/08/2022 00:32:31', 0.2001211, 0.1932651, 0.2002864]\n"
     ]
    }
   ],
   "source": [
    "print(config)"
   ]
  },
  {
   "cell_type": "code",
   "execution_count": 15,
   "id": "VOE7PnkEA88C",
   "metadata": {
    "id": "VOE7PnkEA88C"
   },
   "outputs": [],
   "source": [
    "reviews = { \"02/08/2022 00:32:31\": [0, 0, 1], \"Test2\": [0, 0, 1] }\n",
    "from sklearn.model_selection import train_test_split\n",
    "y = list(reviews.keys())\n",
    "labels = []\n",
    "labeled_config = []\n",
    "\n",
    "for key in y:\n",
    "    if key in graph_data:\n",
    "        data = graph_data[k].values()\n",
    "        labeled_config.append(data)\n",
    "        labels.append(reviews[key])\n",
    "        \n",
    "\n",
    "unlabeled_data = []\n",
    "for key in configuration_data:\n",
    "  if key not in y:\n",
    "    data = configuration_data[key]\n",
    "    unlabeled_data.append(data)"
   ]
  },
  {
   "cell_type": "code",
   "execution_count": 16,
   "id": "NB5FzG02EcO0",
   "metadata": {
    "colab": {
     "base_uri": "https://localhost:8080/"
    },
    "id": "NB5FzG02EcO0",
    "outputId": "077e026b-bed5-407f-e530-8ce415320bff"
   },
   "outputs": [
    {
     "name": "stdout",
     "output_type": "stream",
     "text": [
      "[]\n",
      "['02/08/2022 00:32:31', 0.2001211, 0.1932651, 0.2002864]\n",
      "[]\n"
     ]
    },
    {
     "ename": "IndexError",
     "evalue": "list index out of range",
     "output_type": "error",
     "traceback": [
      "\u001b[1;31m---------------------------------------------------------------------------\u001b[0m",
      "\u001b[1;31mIndexError\u001b[0m                                Traceback (most recent call last)",
      "\u001b[1;32m~\\AppData\\Local\\Temp/ipykernel_8840/2300728226.py\u001b[0m in \u001b[0;36m<module>\u001b[1;34m\u001b[0m\n\u001b[0;32m      3\u001b[0m \u001b[0mconfig\u001b[0m \u001b[1;33m=\u001b[0m \u001b[1;33m[\u001b[0m\u001b[0mconfig\u001b[0m\u001b[1;33m,\u001b[0m \u001b[0mconfig\u001b[0m\u001b[1;33m]\u001b[0m\u001b[1;33m\u001b[0m\u001b[1;33m\u001b[0m\u001b[0m\n\u001b[0;32m      4\u001b[0m \u001b[0mprint\u001b[0m\u001b[1;33m(\u001b[0m\u001b[0mlabels\u001b[0m\u001b[1;33m)\u001b[0m\u001b[1;33m\u001b[0m\u001b[1;33m\u001b[0m\u001b[0m\n\u001b[1;32m----> 5\u001b[1;33m \u001b[0mlabels\u001b[0m\u001b[1;33m.\u001b[0m\u001b[0mappend\u001b[0m\u001b[1;33m(\u001b[0m\u001b[0mlabels\u001b[0m\u001b[1;33m[\u001b[0m\u001b[1;36m0\u001b[0m\u001b[1;33m]\u001b[0m\u001b[1;33m)\u001b[0m\u001b[1;33m\u001b[0m\u001b[1;33m\u001b[0m\u001b[0m\n\u001b[0m\u001b[0;32m      6\u001b[0m \u001b[0mprint\u001b[0m\u001b[1;33m(\u001b[0m\u001b[0munlabeled_data\u001b[0m\u001b[1;33m)\u001b[0m\u001b[1;33m\u001b[0m\u001b[1;33m\u001b[0m\u001b[0m\n",
      "\u001b[1;31mIndexError\u001b[0m: list index out of range"
     ]
    }
   ],
   "source": [
    "print(labeled_config)\n",
    "print(config[0])\n",
    "config = [config, config]\n",
    "print(labels)\n",
    "labels.append(labels[0])\n",
    "print(unlabeled_data)"
   ]
  },
  {
   "cell_type": "code",
   "execution_count": 11,
   "id": "l9ZCBJPL_vqq",
   "metadata": {
    "colab": {
     "base_uri": "https://localhost:8080/"
    },
    "id": "l9ZCBJPL_vqq",
    "outputId": "0fa9929f-b131-48a9-d296-5f672b73791a"
   },
   "outputs": [
    {
     "name": "stdout",
     "output_type": "stream",
     "text": [
      "[[0, 0, 1], [0, 0, 1]]\n"
     ]
    }
   ],
   "source": [
    "label_data = [labeled_config[0], labeled_config[0]]\n",
    "print(labels)"
   ]
  },
  {
   "cell_type": "code",
   "execution_count": 12,
   "id": "bN88s0qkDDAr",
   "metadata": {
    "id": "bN88s0qkDDAr"
   },
   "outputs": [],
   "source": [
    "train_data, train_labels, val_data, val_labels = train_test_split(label_data, labels, test_size=0.1)"
   ]
  },
  {
   "cell_type": "code",
   "execution_count": 13,
   "id": "HXgPXUNsGVg5",
   "metadata": {
    "id": "HXgPXUNsGVg5"
   },
   "outputs": [],
   "source": [
    "# Helper function for merging new history objects with older ones\n",
    "def append_history(losses, val_losses, accuracy, val_accuracy, history):\n",
    "    losses = losses + history.history[\"loss\"]\n",
    "    val_losses = val_losses + history.history[\"val_loss\"]\n",
    "    accuracy = accuracy + history.history[\"categorical_accuracy\"]\n",
    "    val_accuracy = val_accuracy + history.history[\"val_categorical_accuracy\"]\n",
    "    return losses, val_losses, accuracy, val_accuracy\n",
    "\n",
    "\n",
    "# Plotter function\n",
    "def plot_history(losses, val_losses, accuracies, val_accuracies):\n",
    "    plt.plot(losses)\n",
    "    plt.plot(val_losses)\n",
    "    plt.legend([\"train_loss\", \"val_loss\"])\n",
    "    plt.xlabel(\"Epochs\")\n",
    "    plt.ylabel(\"Loss\")\n",
    "    plt.show()\n",
    "\n",
    "    plt.plot(accuracies)\n",
    "    plt.plot(val_accuracies)\n",
    "    plt.legend([\"train_accuracy\", \"val_accuracy\"])\n",
    "    plt.xlabel(\"Epochs\")\n",
    "    plt.ylabel(\"Accuracy\")\n",
    "    plt.show()"
   ]
  },
  {
   "cell_type": "code",
   "execution_count": 14,
   "id": "0wWG257MASxZ",
   "metadata": {
    "id": "0wWG257MASxZ"
   },
   "outputs": [],
   "source": [
    "import tensorflow as tf"
   ]
  },
  {
   "cell_type": "code",
   "execution_count": 15,
   "id": "88129aa5",
   "metadata": {
    "id": "88129aa5"
   },
   "outputs": [],
   "source": [
    "def make_model():\n",
    "  x = Input(shape=(3,), name=\"Game Play Data\")\n",
    "\n",
    "  g = Dense(500, activation='relu')(x)\n",
    "  g = Dense(100, activation='relu')(g)\n",
    "  g = Dense(50, activation='relu')(g)\n",
    "  g = Dense(3, activation='softmax')(g)\n",
    "  model = Model(inputs=x, outputs=g)\n",
    "  return model"
   ]
  },
  {
   "cell_type": "code",
   "execution_count": 16,
   "id": "FRYh7cG6Q3wL",
   "metadata": {
    "colab": {
     "base_uri": "https://localhost:8080/"
    },
    "id": "FRYh7cG6Q3wL",
    "outputId": "46aa27bc-cd7c-4c4f-ec85-d64718bfe296"
   },
   "outputs": [
    {
     "name": "stdout",
     "output_type": "stream",
     "text": [
      "[[0.2001211, 0.1932651, 0.2002864]]\n"
     ]
    }
   ],
   "source": [
    "print(train_data)"
   ]
  },
  {
   "cell_type": "code",
   "execution_count": 17,
   "id": "PrQGne8ovciZ",
   "metadata": {
    "colab": {
     "base_uri": "https://localhost:8080/"
    },
    "id": "PrQGne8ovciZ",
    "outputId": "1ccaed34-4afa-461a-fcce-fdcbc47d3557"
   },
   "outputs": [
    {
     "name": "stdout",
     "output_type": "stream",
     "text": [
      "Starting to train with 1 samples\n",
      "Epoch 1/20\n",
      "1/1 [==============================] - 1s 1s/step - loss: 0.6521 - categorical_accuracy: 0.0000e+00 - false_negatives: 3.0000 - false_positives: 0.0000e+00 - val_loss: 1.1027 - val_categorical_accuracy: 0.0000e+00 - val_false_negatives: 1.0000 - val_false_positives: 0.0000e+00\n",
      "\n",
      "Epoch 00001: val_loss improved from inf to 1.10271, saving model to AL_Model.h5\n",
      "Epoch 2/20\n",
      "1/1 [==============================] - 0s 26ms/step - loss: 0.6522 - categorical_accuracy: 0.0000e+00 - false_negatives: 3.0000 - false_positives: 0.0000e+00 - val_loss: 1.1160 - val_categorical_accuracy: 0.0000e+00 - val_false_negatives: 1.0000 - val_false_positives: 0.0000e+00\n",
      "\n",
      "Epoch 00002: val_loss did not improve from 1.10271\n",
      "Epoch 3/20\n",
      "1/1 [==============================] - 0s 27ms/step - loss: 0.6523 - categorical_accuracy: 0.0000e+00 - false_negatives: 3.0000 - false_positives: 0.0000e+00 - val_loss: 1.1341 - val_categorical_accuracy: 0.0000e+00 - val_false_negatives: 1.0000 - val_false_positives: 0.0000e+00\n",
      "\n",
      "Epoch 00003: val_loss did not improve from 1.10271\n",
      "Epoch 4/20\n",
      "1/1 [==============================] - 0s 25ms/step - loss: 0.6524 - categorical_accuracy: 0.0000e+00 - false_negatives: 3.0000 - false_positives: 0.0000e+00 - val_loss: 1.1478 - val_categorical_accuracy: 0.0000e+00 - val_false_negatives: 1.0000 - val_false_positives: 0.0000e+00\n",
      "\n",
      "Epoch 00004: val_loss did not improve from 1.10271\n",
      "Epoch 5/20\n",
      "1/1 [==============================] - 0s 26ms/step - loss: 0.6524 - categorical_accuracy: 0.0000e+00 - false_negatives: 3.0000 - false_positives: 0.0000e+00 - val_loss: 1.1552 - val_categorical_accuracy: 0.0000e+00 - val_false_negatives: 1.0000 - val_false_positives: 0.0000e+00\n",
      "\n",
      "Epoch 00005: val_loss did not improve from 1.10271\n",
      "Epoch 00005: early stopping\n"
     ]
    }
   ],
   "source": [
    "num_iterations=3\n",
    "sampling_size=5000\n",
    "# inspired from this https://keras.io/examples/nlp/active_learning_review_classification/\n",
    "model = make_model()\n",
    "model.compile(loss=\"categorical_crossentropy\", optimizer=opt, metrics=[\n",
    "          keras.metrics.CategoricalAccuracy(),\n",
    "          keras.metrics.FalseNegatives(),\n",
    "          keras.metrics.FalsePositives(),\n",
    "      ],)\n",
    "losses, val_losses, accuracies, val_accuracies = [], [], [], []\n",
    "\n",
    "# Defining checkpoints.\n",
    "# The checkpoint callback is reused throughout the training since it only saves the best overall model.\n",
    "checkpoint = keras.callbacks.ModelCheckpoint(\n",
    "    \"AL_Model.h5\", save_best_only=True, verbose=1\n",
    ")\n",
    "# Here, patience is set to 4. This can be set higher if desired.\n",
    "early_stopping = keras.callbacks.EarlyStopping(patience=4, verbose=1)\n",
    "\n",
    "print(f\"Starting to train with {len(train_data)} samples\")\n",
    "# Initial fit with a small subset of the training set\n",
    "history = model.fit(\n",
    "    x=train_data,\n",
    "    y=train_labels,\n",
    "    epochs=20,\n",
    "    validation_data=(val_data, val_labels),\n",
    "    callbacks=[checkpoint, early_stopping],\n",
    ")\n",
    "\n",
    "# Appending history\n",
    "losses, val_losses, accuracies, val_accuracies = append_history(\n",
    "    losses, val_losses, accuracies, val_accuracies, history\n",
    ")"
   ]
  },
  {
   "cell_type": "code",
   "execution_count": 19,
   "id": "ohoqlbIKyXTc",
   "metadata": {
    "id": "ohoqlbIKyXTc"
   },
   "outputs": [],
   "source": [
    "import matplotlib.pyplot as plt\n",
    "%matplotlib inline"
   ]
  },
  {
   "cell_type": "code",
   "execution_count": 20,
   "id": "3rYYGhy7yblp",
   "metadata": {
    "id": "3rYYGhy7yblp"
   },
   "outputs": [],
   "source": [
    "def draw_graph():\n",
    "  labels = ['1', '2', '3', '4', '5']\n",
    "  x = np.arange(len(labels))  # the label locations\n",
    "  width = 0.35  # the width of the bars\n",
    "\n",
    "  fig, ax = plt.subplots()\n",
    "  rects1 = ax.bar(x - width/2, graph_data[\"Brawler\"], width, label=\"Brawler\")\n",
    "  rects2 = ax.bar(x, graph_data[\"Mage\"], width, label=\"Mage\")\n",
    "  rects3 = ax.bar(x + width/2, graph_data[\"Swordsman\"], width, label=\"Swordsman\")\n",
    "\n",
    "  # Add some text for labels, title and custom x-axis tick labels, etc.\n",
    "  ax.set_ylabel('Time Steps')\n",
    "  ax.set_title('Time Steps To Next Level')\n",
    "  ax.set_xticks(x, labels)\n",
    "  ax.legend()\n",
    "\n",
    "  fig.tight_layout()\n",
    "\n",
    "  plt.show()"
   ]
  },
  {
   "cell_type": "code",
   "execution_count": 21,
   "id": "K0HTuzElz83k",
   "metadata": {
    "id": "K0HTuzElz83k"
   },
   "outputs": [],
   "source": [
    "def ask_question(adventurer_type):\n",
    "  return input (\"On a scale of 1-5, how difficult progress is with the {adventurer_type} character compared to other playable characters\\nwith 1 (unfair) too challenging, 3 fair, and 5 (unfair) too easy.\")"
   ]
  },
  {
   "cell_type": "code",
   "execution_count": 22,
   "id": "acUFA1ffAtq9",
   "metadata": {
    "colab": {
     "base_uri": "https://localhost:8080/",
     "height": 389
    },
    "id": "acUFA1ffAtq9",
    "outputId": "993a25e8-6528-4aa8-9360-c3e1a4c9b93e"
   },
   "outputs": [
    {
     "data": {
      "image/png": "[encoded data removed]",
      "text/plain": [
       "<Figure size 432x288 with 1 Axes>"
      ]
     },
     "metadata": {
      "needs_background": "light"
     },
     "output_type": "display_data"
    },
    {
     "ename": "KeyboardInterrupt",
     "evalue": "Interrupted by user",
     "output_type": "error",
     "traceback": [
      "\u001b[1;31m---------------------------------------------------------------------------\u001b[0m",
      "\u001b[1;31mKeyboardInterrupt\u001b[0m                         Traceback (most recent call last)",
      "\u001b[1;32m~\\AppData\\Local\\Temp/ipykernel_14008/2485301711.py\u001b[0m in \u001b[0;36m<module>\u001b[1;34m\u001b[0m\n\u001b[0;32m     18\u001b[0m     \u001b[0mused\u001b[0m\u001b[1;33m.\u001b[0m\u001b[0mappend\u001b[0m\u001b[1;33m(\u001b[0m\u001b[0mindex\u001b[0m\u001b[1;33m)\u001b[0m\u001b[1;33m\u001b[0m\u001b[1;33m\u001b[0m\u001b[0m\n\u001b[0;32m     19\u001b[0m     \u001b[0mdraw_graph\u001b[0m\u001b[1;33m(\u001b[0m\u001b[1;33m)\u001b[0m\u001b[1;33m\u001b[0m\u001b[1;33m\u001b[0m\u001b[0m\n\u001b[1;32m---> 20\u001b[1;33m     \u001b[0mnum\u001b[0m \u001b[1;33m=\u001b[0m \u001b[0mask_question\u001b[0m\u001b[1;33m(\u001b[0m\u001b[1;34m\"Swordsman\"\u001b[0m\u001b[1;33m)\u001b[0m\u001b[1;33m\u001b[0m\u001b[1;33m\u001b[0m\u001b[0m\n\u001b[0m\u001b[0;32m     21\u001b[0m     \u001b[0mmage\u001b[0m \u001b[1;33m=\u001b[0m \u001b[0mask_question\u001b[0m\u001b[1;33m(\u001b[0m\u001b[1;34m\"Mage\"\u001b[0m\u001b[1;33m)\u001b[0m\u001b[1;33m\u001b[0m\u001b[1;33m\u001b[0m\u001b[0m\n\u001b[0;32m     22\u001b[0m     \u001b[0mbrawler\u001b[0m \u001b[1;33m=\u001b[0m \u001b[0mask_question\u001b[0m\u001b[1;33m(\u001b[0m\u001b[1;34m\"Mage\"\u001b[0m\u001b[1;33m)\u001b[0m\u001b[1;33m\u001b[0m\u001b[1;33m\u001b[0m\u001b[0m\n",
      "\u001b[1;32m~\\AppData\\Local\\Temp/ipykernel_14008/244921883.py\u001b[0m in \u001b[0;36mask_question\u001b[1;34m(adventurer_type)\u001b[0m\n\u001b[0;32m      1\u001b[0m \u001b[1;32mdef\u001b[0m \u001b[0mask_question\u001b[0m\u001b[1;33m(\u001b[0m\u001b[0madventurer_type\u001b[0m\u001b[1;33m)\u001b[0m\u001b[1;33m:\u001b[0m\u001b[1;33m\u001b[0m\u001b[1;33m\u001b[0m\u001b[0m\n\u001b[1;32m----> 2\u001b[1;33m   \u001b[1;32mreturn\u001b[0m \u001b[0minput\u001b[0m \u001b[1;33m(\u001b[0m\u001b[1;34m\"On a scale of 1-5, how difficult progress is with the {adventurer_type} character compared to other playable characters\\nwith 1 (unfair) too challenging, 3 fair, and 5 (unfair) too easy.\"\u001b[0m\u001b[1;33m)\u001b[0m\u001b[1;33m\u001b[0m\u001b[1;33m\u001b[0m\u001b[0m\n\u001b[0m",
      "\u001b[1;32m~\\anaconda3\\envs\\tf-gpu\\lib\\site-packages\\ipykernel\\kernelbase.py\u001b[0m in \u001b[0;36mraw_input\u001b[1;34m(self, prompt)\u001b[0m\n\u001b[0;32m   1005\u001b[0m                 \u001b[1;34m\"raw_input was called, but this frontend does not support input requests.\"\u001b[0m\u001b[1;33m\u001b[0m\u001b[1;33m\u001b[0m\u001b[0m\n\u001b[0;32m   1006\u001b[0m             )\n\u001b[1;32m-> 1007\u001b[1;33m         return self._input_request(\n\u001b[0m\u001b[0;32m   1008\u001b[0m             \u001b[0mstr\u001b[0m\u001b[1;33m(\u001b[0m\u001b[0mprompt\u001b[0m\u001b[1;33m)\u001b[0m\u001b[1;33m,\u001b[0m\u001b[1;33m\u001b[0m\u001b[1;33m\u001b[0m\u001b[0m\n\u001b[0;32m   1009\u001b[0m             \u001b[0mself\u001b[0m\u001b[1;33m.\u001b[0m\u001b[0m_parent_ident\u001b[0m\u001b[1;33m[\u001b[0m\u001b[1;34m\"shell\"\u001b[0m\u001b[1;33m]\u001b[0m\u001b[1;33m,\u001b[0m\u001b[1;33m\u001b[0m\u001b[1;33m\u001b[0m\u001b[0m\n",
      "\u001b[1;32m~\\anaconda3\\envs\\tf-gpu\\lib\\site-packages\\ipykernel\\kernelbase.py\u001b[0m in \u001b[0;36m_input_request\u001b[1;34m(self, prompt, ident, parent, password)\u001b[0m\n\u001b[0;32m   1050\u001b[0m             \u001b[1;32mexcept\u001b[0m \u001b[0mKeyboardInterrupt\u001b[0m\u001b[1;33m:\u001b[0m\u001b[1;33m\u001b[0m\u001b[1;33m\u001b[0m\u001b[0m\n\u001b[0;32m   1051\u001b[0m                 \u001b[1;31m# re-raise KeyboardInterrupt, to truncate traceback\u001b[0m\u001b[1;33m\u001b[0m\u001b[1;33m\u001b[0m\u001b[0m\n\u001b[1;32m-> 1052\u001b[1;33m                 \u001b[1;32mraise\u001b[0m \u001b[0mKeyboardInterrupt\u001b[0m\u001b[1;33m(\u001b[0m\u001b[1;34m\"Interrupted by user\"\u001b[0m\u001b[1;33m)\u001b[0m \u001b[1;32mfrom\u001b[0m \u001b[1;32mNone\u001b[0m\u001b[1;33m\u001b[0m\u001b[1;33m\u001b[0m\u001b[0m\n\u001b[0m\u001b[0;32m   1053\u001b[0m             \u001b[1;32mexcept\u001b[0m \u001b[0mException\u001b[0m\u001b[1;33m:\u001b[0m\u001b[1;33m\u001b[0m\u001b[1;33m\u001b[0m\u001b[0m\n\u001b[0;32m   1054\u001b[0m                 \u001b[0mself\u001b[0m\u001b[1;33m.\u001b[0m\u001b[0mlog\u001b[0m\u001b[1;33m.\u001b[0m\u001b[0mwarning\u001b[0m\u001b[1;33m(\u001b[0m\u001b[1;34m\"Invalid Message:\"\u001b[0m\u001b[1;33m,\u001b[0m \u001b[0mexc_info\u001b[0m\u001b[1;33m=\u001b[0m\u001b[1;32mTrue\u001b[0m\u001b[1;33m)\u001b[0m\u001b[1;33m\u001b[0m\u001b[1;33m\u001b[0m\u001b[0m\n",
      "\u001b[1;31mKeyboardInterrupt\u001b[0m: Interrupted by user"
     ]
    }
   ],
   "source": [
    "used = []\n",
    "label_al = labels\n",
    "label_data_al = label_data\n",
    "for iteration in range(num_iterations):\n",
    "  # Getting predictions from previously trained model\n",
    "  predictions = model.predict(unlabeled_data)\n",
    "  length = min(len(predictions), 10)\n",
    "  minValue = 1\n",
    "  index = -1\n",
    "  for x in range(length):\n",
    "    if x not in used:\n",
    "      predict = predictions[x]\n",
    "      maxValue = max(predict)\n",
    "      if maxValue < minValue:\n",
    "        minValue = maxValue\n",
    "        index = x\n",
    "  if index != 1:\n",
    "    used.append(index)\n",
    "    draw_graph()\n",
    "    num = ask_question(\"Swordsman\")\n",
    "    mage = ask_question(\"Mage\")\n",
    "    brawler = ask_question(\"Mage\")\n",
    "    v = int(num) - 1\n",
    "    one_hot = [0, 0, 0]\n",
    "    one_hot[v] = 1\n",
    "    d = unlabeled_data[index]\n",
    "    label_data_al.append(d)\n",
    "    label_al.append(one_hot)\n",
    "  print(len(label_data_al))\n",
    "  print(len(label_al))\n",
    "  \n",
    "\n",
    "  al_train_data, al_val_data, al_train_labels, al_val_labels = train_test_split(label_data_al, label_al, test_size=0.1)\n",
    "  print(len(al_train_data))\n",
    "  print(len(al_train_labels))\n",
    "\n",
    "  print(len(al_val_data))\n",
    "  print(len(al_val_labels))\n",
    "\n",
    "  # We recompile the model to reset the optimizer states and retrain the model\n",
    "  model.compile(\n",
    "      loss=\"categorical_crossentropy\",\n",
    "      optimizer=\"rmsprop\",\n",
    "      metrics=[\n",
    "          keras.metrics.CategoricalAccuracy(),\n",
    "          keras.metrics.FalseNegatives(),\n",
    "          keras.metrics.FalsePositives(),\n",
    "      ],\n",
    "  )\n",
    "  history = model.fit(\n",
    "      x=al_train_data,\n",
    "      y=al_train_labels,\n",
    "      validation_data=(al_val_data, al_val_labels),\n",
    "      epochs=20\n",
    "  )\n",
    "\n",
    "  # Appending the history\n",
    "  losses, val_losses, accuracies, val_accuracies = append_history(\n",
    "      losses, val_losses, accuracies, val_accuracies, history\n",
    "  )\n",
    "\n",
    "  # Loading the best model from this training loop\n",
    "  model = keras.models.load_model(\"AL_Model.h5\")"
   ]
  },
  {
   "cell_type": "code",
   "execution_count": null,
   "id": "2vA_5vlSRXL_",
   "metadata": {
    "id": "2vA_5vlSRXL_"
   },
   "outputs": [],
   "source": [
    "# Plotting the overall history and evaluating the final model\n",
    "  plot_history(losses, val_losses, accuracies, val_accuracies)\n",
    "  print(\"-\" * 100)\n",
    "  print(\n",
    "      \"Test set evaluation: \",\n",
    "      model.evaluate(test_dataset, verbose=0, return_dict=True),\n",
    "  )\n",
    "  print(\"-\" * 100)"
   ]
  },
  {
   "cell_type": "code",
   "execution_count": null,
   "id": "4e467ce8",
   "metadata": {
    "id": "4e467ce8"
   },
   "outputs": [],
   "source": [
    "from keras.utils.vis_utils import plot_model\n",
    "plot_model(model, to_file='model_plot.png', show_shapes=True, show_layer_names=True)"
   ]
  }
 ],
 "metadata": {
  "colab": {
   "include_colab_link": true,
   "name": "active_learning.ipynb",
   "provenance": []
  },
  "kernelspec": {
   "display_name": "Python 3 (ipykernel)",
   "language": "python",
   "name": "python3"
  },
  "language_info": {
   "codemirror_mode": {
    "name": "ipython",
    "version": 3
   },
   "file_extension": ".py",
   "mimetype": "text/x-python",
   "name": "python",
   "nbconvert_exporter": "python",
   "pygments_lexer": "ipython3",
   "version": "3.9.7"
  }
 },
 "nbformat": 4,
 "nbformat_minor": 5
}
