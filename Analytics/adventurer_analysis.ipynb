{
 "cells": [
  {
   "cell_type": "code",
   "execution_count": 1,
   "id": "610cc50c",
   "metadata": {},
   "outputs": [],
   "source": [
    "type_path = \"E:/TestData\""
   ]
  },
  {
   "cell_type": "code",
   "execution_count": 2,
   "id": "263a1703",
   "metadata": {},
   "outputs": [],
   "source": [
    "import os\n",
    "import pandas as pd\n",
    "import numpy as np\n",
    "from statistics import mean"
   ]
  },
  {
   "cell_type": "code",
   "execution_count": 3,
   "id": "8a182837",
   "metadata": {},
   "outputs": [],
   "source": [
    "adventurer_data = {\n",
    "    \"Brawler\": {},\n",
    "    \"Mage\": {},\n",
    "    \"Swordsman\": {}\n",
    "}"
   ]
  },
  {
   "cell_type": "code",
   "execution_count": 4,
   "id": "9668f3b2",
   "metadata": {},
   "outputs": [],
   "source": [
    "level_cap = 5"
   ]
  },
  {
   "cell_type": "code",
   "execution_count": 5,
   "id": "11e46ff6",
   "metadata": {},
   "outputs": [
    {
     "name": "stdout",
     "output_type": "stream",
     "text": [
      "Brawler\n",
      "Mage\n",
      "Swordsman\n"
     ]
    }
   ],
   "source": [
    "for key in adventurer_data:\n",
    "    adventurer_data[key] = [[], [], [], [], []]\n",
    "\n",
    "for filename in os.listdir(type_path):\n",
    "    file_path = os.path.join(type_path, filename)\n",
    "    if os.path.isfile(file_path) and \"level_\" not in file_path:\n",
    "        df = pd.read_csv(file_path)\n",
    "        adventurer_type = filename.split('_')[0]\n",
    "        print(adventurer_type)\n",
    "        for i in range(len(df)):\n",
    "            level = df.loc[i, 'Level']\n",
    "            if level != 0:\n",
    "                max_steps = df.loc[i, 'MaxCount']\n",
    "                adventurer_data[adventurer_type][level-1].append(max_steps)\n",
    "                # print(adventurer_data)"
   ]
  },
  {
   "cell_type": "code",
   "execution_count": 6,
   "id": "f3ff52c2",
   "metadata": {},
   "outputs": [],
   "source": [
    "graph_data = { }\n",
    "for key in adventurer_data:\n",
    "    graph_data[key] = [0, 0, 0, 0, 0]\n",
    "    for x in range(level_cap):\n",
    "        if len(adventurer_data[key][x]) > 0:\n",
    "            graph_data[key][x] = mean(adventurer_data[key][x])"
   ]
  },
  {
   "cell_type": "code",
   "execution_count": 7,
   "id": "97bb3128",
   "metadata": {},
   "outputs": [
    {
     "name": "stdout",
     "output_type": "stream",
     "text": [
      "{'Brawler': [8697, 16427, 31818, 39714, 38463], 'Mage': [9369, 16044, 28745, 59052, 28147], 'Swordsman': [6325, 11097, 26855, 43827, 24932]}\n"
     ]
    }
   ],
   "source": [
    "print(graph_data)"
   ]
  },
  {
   "cell_type": "code",
   "execution_count": 8,
   "id": "8445f308",
   "metadata": {},
   "outputs": [],
   "source": [
    "import matplotlib.pyplot as plt"
   ]
  },
  {
   "cell_type": "code",
   "execution_count": 9,
   "id": "0a255b0d",
   "metadata": {},
   "outputs": [],
   "source": [
    "%matplotlib inline"
   ]
  },
  {
   "cell_type": "code",
   "execution_count": 10,
   "id": "d3163a7c",
   "metadata": {},
   "outputs": [],
   "source": [
    "keys = graph_data.keys()"
   ]
  },
  {
   "cell_type": "code",
   "execution_count": 11,
   "id": "4ebea4b2",
   "metadata": {},
   "outputs": [
    {
     "data": {
      "image/png": "[encoded data removed]",
      "text/plain": [
       "<Figure size 432x288 with 1 Axes>"
      ]
     },
     "metadata": {
      "needs_background": "light"
     },
     "output_type": "display_data"
    }
   ],
   "source": [
    "labels = ['1', '2', '3', '4', '5']\n",
    "x = np.arange(len(labels))  # the label locations\n",
    "width = 0.35  # the width of the bars\n",
    "\n",
    "fig, ax = plt.subplots()\n",
    "rects1 = ax.bar(x - width/2, graph_data[\"Brawler\"], width, label=\"Brawler\")\n",
    "rects2 = ax.bar(x, graph_data[\"Mage\"], width, label=\"Mage\")\n",
    "rects3 = ax.bar(x + width/2, graph_data[\"Swordsman\"], width, label=\"Swordsman\")\n",
    "\n",
    "# Add some text for labels, title and custom x-axis tick labels, etc.\n",
    "ax.set_ylabel('Time Steps')\n",
    "ax.set_title('Time Steps To Next Level')\n",
    "ax.set_xticks(x, labels)\n",
    "ax.legend()\n",
    "\n",
    "ax.bar_label(rects1, padding=3)\n",
    "ax.bar_label(rects2, padding=3)\n",
    "ax.bar_label(rects3, padding=3)\n",
    "\n",
    "fig.tight_layout()\n",
    "\n",
    "plt.show()"
   ]
  }
 ],
 "metadata": {
  "kernelspec": {
   "display_name": "Python 3 (ipykernel)",
   "language": "python",
   "name": "python3"
  },
  "language_info": {
   "codemirror_mode": {
    "name": "ipython",
    "version": 3
   },
   "file_extension": ".py",
   "mimetype": "text/x-python",
   "name": "python",
   "nbconvert_exporter": "python",
   "pygments_lexer": "ipython3",
   "version": "3.9.16"
  }
 },
 "nbformat": 4,
 "nbformat_minor": 5
}
