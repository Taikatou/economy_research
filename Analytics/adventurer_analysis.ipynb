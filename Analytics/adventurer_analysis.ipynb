{
 "cells": [
  {
   "cell_type": "code",
   "execution_count": 1,
   "id": "610cc50c",
   "metadata": {},
   "outputs": [],
   "source": [
    "type_path = \"E:\\Economy\""
   ]
  },
  {
   "cell_type": "code",
   "execution_count": 23,
   "id": "263a1703",
   "metadata": {},
   "outputs": [],
   "source": [
    "import os\n",
    "import pandas as pd\n",
    "import numpy as np\n",
    "from statistics import mean"
   ]
  },
  {
   "cell_type": "code",
   "execution_count": 4,
   "id": "8a182837",
   "metadata": {},
   "outputs": [],
   "source": [
    "adventurer_data = {\n",
    "    \"Brawler\": {},\n",
    "    \"Mage\": {},\n",
    "    \"Swordsman\": {}\n",
    "}"
   ]
  },
  {
   "cell_type": "code",
   "execution_count": 5,
   "id": "9668f3b2",
   "metadata": {},
   "outputs": [],
   "source": [
    "level_cap = 5"
   ]
  },
  {
   "cell_type": "code",
   "execution_count": 13,
   "id": "801660ce",
   "metadata": {},
   "outputs": [
    {
     "name": "stdout",
     "output_type": "stream",
     "text": [
      "[[], [], [], [], []]\n",
      "[[], [], [], [], []]\n",
      "[[], [], [], [], []]\n"
     ]
    }
   ],
   "source": [
    "for key in adventurer_data:\n",
    "    adventurer_data[key] = [[], [], [], [], []]\n",
    "    print(adventurer_data[key])"
   ]
  },
  {
   "cell_type": "code",
   "execution_count": 21,
   "id": "11e46ff6",
   "metadata": {},
   "outputs": [],
   "source": [
    "for filename in os.listdir(type_path):\n",
    "    file_path = os.path.join(type_path, filename)\n",
    "    if os.path.isfile(file_path):\n",
    "        df = pd.read_csv(file_path)\n",
    "        adventurer_type = filename.split('_')[0]\n",
    "        for i in range(len(df)):\n",
    "            level = df.loc[i, 'Level']\n",
    "            max_steps = df.loc[i, 'MaxCount']\n",
    "            adventurer_data[adventurer_type][level].append(max_steps)"
   ]
  },
  {
   "cell_type": "code",
   "execution_count": 26,
   "id": "f3ff52c2",
   "metadata": {},
   "outputs": [],
   "source": [
    "graph_data = { }\n",
    "for key in adventurer_data:\n",
    "    graph_data[key] = [[], [], [], [], []]\n",
    "    for x in range(level_cap):\n",
    "        graph_data[key][x] = mean(adventurer_data[key][x])"
   ]
  },
  {
   "cell_type": "code",
   "execution_count": 28,
   "id": "97bb3128",
   "metadata": {},
   "outputs": [
    {
     "name": "stdout",
     "output_type": "stream",
     "text": [
      "{'Brawler': [25426, 28510, 38858, 25426, 29785.428571428572], 'Mage': [21701, 23162, 33713, 21701, 25221.027027027027], 'Swordsman': [16889, 18388, 25106, 16889, 19488.4358974359]}\n"
     ]
    }
   ],
   "source": [
    "print(graph_data)"
   ]
  },
  {
   "cell_type": "code",
   "execution_count": 29,
   "id": "8445f308",
   "metadata": {},
   "outputs": [],
   "source": [
    "import matplotlib.pyplot as plt"
   ]
  },
  {
   "cell_type": "code",
   "execution_count": 30,
   "id": "0a255b0d",
   "metadata": {},
   "outputs": [],
   "source": [
    "%matplotlib inline"
   ]
  },
  {
   "cell_type": "code",
   "execution_count": 31,
   "id": "d3163a7c",
   "metadata": {},
   "outputs": [],
   "source": [
    "keys = graph_data.keys()"
   ]
  },
  {
   "cell_type": "code",
   "execution_count": 47,
   "id": "4ebea4b2",
   "metadata": {},
   "outputs": [
    {
     "data": {
      "image/png": "[encoded data removed]",
      "text/plain": [
       "<Figure size 432x288 with 1 Axes>"
      ]
     },
     "metadata": {
      "needs_background": "light"
     },
     "output_type": "display_data"
    }
   ],
   "source": [
    "labels = ['1', '2', '3', '4', '5']\n",
    "x = np.arange(len(labels))  # the label locations\n",
    "width = 0.35  # the width of the bars\n",
    "\n",
    "fig, ax = plt.subplots()\n",
    "rects1 = ax.bar(x - width/2, graph_data[\"Brawler\"], width, label=\"Brawler\")\n",
    "rects2 = ax.bar(x, graph_data[\"Mage\"], width, label=\"Mage\")\n",
    "rects3 = ax.bar(x + width/2, graph_data[\"Swordsman\"], width, label=\"Swordsman\")\n",
    "\n",
    "# Add some text for labels, title and custom x-axis tick labels, etc.\n",
    "ax.set_ylabel('Time Steps')\n",
    "ax.set_title('Time Steps To Next Level')\n",
    "ax.set_xticks(x, labels)\n",
    "ax.legend()\n",
    "\n",
    "ax.bar_label(rects1, padding=3)\n",
    "ax.bar_label(rects2, padding=3)\n",
    "ax.bar_label(rects3, padding=3)\n",
    "\n",
    "fig.tight_layout()\n",
    "\n",
    "plt.show()"
   ]
  }
 ],
 "metadata": {
  "kernelspec": {
   "display_name": "Python 3 (ipykernel)",
   "language": "python",
   "name": "python3"
  },
  "language_info": {
   "codemirror_mode": {
    "name": "ipython",
    "version": 3
   },
   "file_extension": ".py",
   "mimetype": "text/x-python",
   "name": "python",
   "nbconvert_exporter": "python",
   "pygments_lexer": "ipython3",
   "version": "3.9.7"
  }
 },
 "nbformat": 4,
 "nbformat_minor": 5
}
