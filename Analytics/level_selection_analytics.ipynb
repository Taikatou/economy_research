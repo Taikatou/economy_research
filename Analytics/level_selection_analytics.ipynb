{
 "cells": [
  {
   "cell_type": "code",
   "execution_count": 1,
   "id": "3a7e0a39",
   "metadata": {},
   "outputs": [],
   "source": [
    "import os\n",
    "import pandas as pd\n",
    "import numpy as np\n",
    "from statistics import mean"
   ]
  },
  {
   "cell_type": "code",
   "execution_count": 2,
   "id": "c133b69c",
   "metadata": {},
   "outputs": [],
   "source": [
    "type_path = \"E:\\Economy2\""
   ]
  },
  {
   "cell_type": "code",
   "execution_count": 11,
   "id": "176b696b",
   "metadata": {},
   "outputs": [],
   "source": [
    "environments = {}\n",
    "for filename in os.listdir(type_path):\n",
    "    file_path = os.path.join(type_path, filename)\n",
    "    if os.path.isfile(file_path):\n",
    "        df = pd.read_csv(file_path)\n",
    "        hash_data = []\n",
    "        for i in range(len(df)):\n",
    "            battle_environment = df.loc[i, 'BattleEnvironment']\n",
    "            battle_id = df.loc[i, 'ID']\n",
    "            if battle_environment not in environments:\n",
    "                environments[battle_environment] = [0, 0, 0, 0, 0]\n",
    "            if battle_id not in hash_data:\n",
    "                level = df.loc[i, 'Level']\n",
    "                environments[battle_environment][level] = environments[battle_environment][level] + 1\n",
    "                hash_data.append(battle_id)"
   ]
  },
  {
   "cell_type": "code",
   "execution_count": 12,
   "id": "8e4bed9f",
   "metadata": {},
   "outputs": [
    {
     "name": "stdout",
     "output_type": "stream",
     "text": [
      "{'Mountain': [42, 69, 98, 0, 0], 'Sea': [32, 64, 91, 0, 0], 'Forest': [44, 71, 116, 0, 0], 'Volcano': [35, 60, 70, 0, 0]}\n"
     ]
    }
   ],
   "source": [
    "print(environments)"
   ]
  },
  {
   "cell_type": "code",
   "execution_count": 6,
   "id": "5302bacf",
   "metadata": {},
   "outputs": [],
   "source": [
    "import matplotlib.pyplot as plt\n",
    "%matplotlib inline"
   ]
  },
  {
   "cell_type": "code",
   "execution_count": 17,
   "id": "1f51db07",
   "metadata": {},
   "outputs": [
    {
     "name": "stdout",
     "output_type": "stream",
     "text": [
      "[44, 71, 116, 0, 0]\n"
     ]
    }
   ],
   "source": [
    "labels = ['1', '2', '3', '4', '5']\n",
    "print(environments[\"Forest\"])"
   ]
  },
  {
   "cell_type": "code",
   "execution_count": 31,
   "id": "875d8fbf",
   "metadata": {},
   "outputs": [
    {
     "name": "stdout",
     "output_type": "stream",
     "text": [
      "[0 1 2 3 4]\n"
     ]
    },
    {
     "data": {
      "image/png": "[encoded data removed]",
      "text/plain": [
       "<Figure size 432x288 with 1 Axes>"
      ]
     },
     "metadata": {
      "needs_background": "light"
     },
     "output_type": "display_data"
    }
   ],
   "source": [
    "x = np.arange(len(labels))  # the label locations\n",
    "print(x)\n",
    "width = 0.2  # the width of the bars\n",
    "\n",
    "fig, ax = plt.subplots()\n",
    "rects1 = ax.bar(x - width*2, environments[\"Forest\"], width, label=\"Forest\")\n",
    "rects2 = ax.bar(x - width, environments[\"Sea\"], width, label=\"Sea\")\n",
    "rects3 = ax.bar(x, environments[\"Mountain\"], width, label=\"Mountain\")\n",
    "rects4 = ax.bar(x + width, environments[\"Volcano\"], width, label=\"Volcano\")\n",
    "\n",
    "# Add some text for labels, title and custom x-axis tick labels, etc.\n",
    "ax.set_ylabel('Number of Recorded Battles')\n",
    "ax.set_title('Time Steps To Next Level')\n",
    "ax.set_xticks(x, labels)\n",
    "ax.legend()\n",
    "\n",
    "ax.bar_label(rects1)\n",
    "ax.bar_label(rects2)\n",
    "ax.bar_label(rects3)\n",
    "ax.bar_label(rects4)\n",
    "\n",
    "fig.tight_layout()\n",
    "\n",
    "plt.show()"
   ]
  },
  {
   "cell_type": "code",
   "execution_count": null,
   "id": "4bc006b4",
   "metadata": {},
   "outputs": [],
   "source": []
  },
  {
   "cell_type": "code",
   "execution_count": null,
   "id": "e427183d",
   "metadata": {},
   "outputs": [],
   "source": [
    "for keya in environments:\n",
    "    for keyb in environments:\n",
    "        environments[key]"
   ]
  }
 ],
 "metadata": {
  "kernelspec": {
   "display_name": "Python 3 (ipykernel)",
   "language": "python",
   "name": "python3"
  },
  "language_info": {
   "codemirror_mode": {
    "name": "ipython",
    "version": 3
   },
   "file_extension": ".py",
   "mimetype": "text/x-python",
   "name": "python",
   "nbconvert_exporter": "python",
   "pygments_lexer": "ipython3",
   "version": "3.9.7"
  }
 },
 "nbformat": 4,
 "nbformat_minor": 5
}
